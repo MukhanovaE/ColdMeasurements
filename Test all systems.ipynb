{
 "cells": [
  {
   "cell_type": "markdown",
   "id": "2c56d096-f957-4706-9a6a-b4a564c94f6b",
   "metadata": {},
   "source": [
    "# Test systems"
   ]
  },
  {
   "cell_type": "markdown",
   "id": "d4ade0b8",
   "metadata": {},
   "source": [
    "General use"
   ]
  },
  {
   "cell_type": "code",
   "execution_count": 1,
   "id": "25847fbe-028c-458e-bc0c-c4662285d9fc",
   "metadata": {},
   "outputs": [],
   "source": [
    "from numpy import *\n",
    "import matplotlib.pyplot as plt"
   ]
  },
  {
   "cell_type": "markdown",
   "id": "7c0c4309",
   "metadata": {},
   "source": [
    "Measurement soft"
   ]
  },
  {
   "cell_type": "code",
   "execution_count": 2,
   "id": "54545e1d-5fb7-4f3c-9fa8-1949480a8b9a",
   "metadata": {},
   "outputs": [],
   "source": [
    "import pyvisa"
   ]
  },
  {
   "cell_type": "markdown",
   "id": "18027985",
   "metadata": {},
   "source": [
    "Qutip"
   ]
  },
  {
   "cell_type": "code",
   "execution_count": 3,
   "id": "8fb7bcab-7409-4619-a1e5-eb0a5db4f8c5",
   "metadata": {},
   "outputs": [
    {
     "data": {
      "text/html": [
       "<table><tr><th>Software</th><th>Version</th></tr><tr><td>QuTiP</td><td>4.7.1</td></tr><tr><td>Numpy</td><td>1.23.5</td></tr><tr><td>SciPy</td><td>1.10.0</td></tr><tr><td>matplotlib</td><td>3.7.0</td></tr><tr><td>Cython</td><td>0.29.35</td></tr><tr><td>Number of CPUs</td><td>4</td></tr><tr><td>BLAS Info</td><td>INTEL MKL</td></tr><tr><td>IPython</td><td>8.10.0</td></tr><tr><td>Python</td><td>3.10.9 | packaged by Anaconda, Inc. | (main, Mar  1 2023, 18:18:15) [MSC v.1916 64 bit (AMD64)]</td></tr><tr><td>OS</td><td>nt [win32]</td></tr><tr><td colspan='2'>Thu Jun 01 15:53:28 2023 Turkey Standard Time</td></tr></table>"
      ],
      "text/plain": [
       "<IPython.core.display.HTML object>"
      ]
     },
     "execution_count": 3,
     "metadata": {},
     "output_type": "execute_result"
    }
   ],
   "source": [
    "from qutip.ipynbtools import version_table\n",
    "version_table()"
   ]
  },
  {
   "cell_type": "code",
   "execution_count": null,
   "id": "c7bb388a-7fa8-485b-bd5f-e8859cea59c6",
   "metadata": {},
   "outputs": [],
   "source": []
  }
 ],
 "metadata": {
  "kernelspec": {
   "display_name": "Python 3 (ipykernel)",
   "language": "python",
   "name": "python3"
  },
  "language_info": {
   "codemirror_mode": {
    "name": "ipython",
    "version": 3
   },
   "file_extension": ".py",
   "mimetype": "text/x-python",
   "name": "python",
   "nbconvert_exporter": "python",
   "pygments_lexer": "ipython3",
   "version": "3.10.9"
  }
 },
 "nbformat": 4,
 "nbformat_minor": 5
}
