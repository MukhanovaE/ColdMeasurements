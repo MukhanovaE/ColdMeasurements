{
 "cells": [
  {
   "cell_type": "code",
   "execution_count": 19,
   "id": "de76a05d",
   "metadata": {},
   "outputs": [],
   "source": [
    "import pyvisa\n",
    "from qcodes.instrument_drivers.rohde_schwarz import (\n",
    "    RohdeSchwarzZNB8,\n",
    "    RohdeSchwarzZNBChannel,\n",
    ")\n",
    "import matplotlib.pyplot as plt\n",
    "import matplotlib\n",
    "%matplotlib qt\n",
    "font = {'size'   : 14}\n",
    "matplotlib.rc('font', **font)\n",
    "import os\n",
    "\n",
    "import numpy as np\n",
    "from numpy import *"
   ]
  },
  {
   "cell_type": "code",
   "execution_count": 2,
   "id": "9af3c60b",
   "metadata": {},
   "outputs": [
    {
     "name": "stdout",
     "output_type": "stream",
     "text": [
      "Connected to: Rohde-Schwarz ZNB20-2Port (serial:1311601062102129, firmware:3.45) in 0.08s\n"
     ]
    }
   ],
   "source": [
    "vna = RohdeSchwarzZNB8('ZNB20', 'TCPIP0::169.254.36.111::inst0::INSTR', init_s_params=False, reset_channels=False)\n",
    "vna.add_channel('S21')\n",
    "# vna.display_single_window()\n",
    "# vna.channels.autoscale()"
   ]
  },
  {
   "cell_type": "code",
   "execution_count": 3,
   "id": "1ef8c8fd",
   "metadata": {
    "scrolled": true
   },
   "outputs": [
    {
     "ename": "NameError",
     "evalue": "name 'freq_range' is not defined",
     "output_type": "error",
     "traceback": [
      "\u001b[1;31m---------------------------------------------------------------------------\u001b[0m",
      "\u001b[1;31mNameError\u001b[0m                                 Traceback (most recent call last)",
      "Cell \u001b[1;32mIn[3], line 1\u001b[0m\n\u001b[1;32m----> 1\u001b[0m mean(\u001b[43mfreq_range\u001b[49m)\u001b[38;5;241m-\u001b[39m\u001b[38;5;241m10e3\u001b[39m\n",
      "\u001b[1;31mNameError\u001b[0m: name 'freq_range' is not defined"
     ]
    }
   ],
   "source": [
    "mean(freq_range)-10e3"
   ]
  },
  {
   "cell_type": "code",
   "execution_count": 3,
   "id": "43a7f8bc",
   "metadata": {},
   "outputs": [
    {
     "name": "stdout",
     "output_type": "stream",
     "text": [
      "s1= 5.7816241\n"
     ]
    },
    {
     "data": {
      "text/plain": [
       "<matplotlib.legend.Legend at 0x23a3eb59d30>"
      ]
     },
     "execution_count": 3,
     "metadata": {},
     "output_type": "execute_result"
    }
   ],
   "source": [
    "freq_range = np.array([5.781162e9, 5.78117e9])-10e3\n",
    "nsteps = 1000\n",
    "fr0 = np.linspace(freq_range[0], freq_range[1], nsteps)\n",
    "vna.channels.S21.power(-7)\n",
    "vna.rf_on()\n",
    "vna.channels.S21.start(freq_range[0])\n",
    "vna.channels.S21.stop(freq_range[1])\n",
    "vna.channels.S21.npts(nsteps)\n",
    "\n",
    "vna.channels.S21.bandwidth(100000)\n",
    "get_v = vna.channels.S21.trace_mag_phase.get()\n",
    "\n",
    "fig, ax = plt.subplots(1,2,figsize=(15,7), sharex=True)\n",
    "ax[0].plot(fr0/1e9, get_v[0], label = '1st run')\n",
    "ax[1].plot(fr0/1e9, get_v[1], label = '1st run')\n",
    "\n",
    "get_v = vna.channels.S21.trace_mag_phase.get()\n",
    "ax[0].plot(fr0/1e9, get_v[0], label = '2nd run')\n",
    "ax[1].plot(fr0/1e9, get_v[1], label = '2nd run')\n",
    "\n",
    "get_v = vna.channels.S21.trace_mag_phase.get()\n",
    "ax[0].plot(fr0/1e9, get_v[0], label = '3rd run')\n",
    "ax[1].plot(fr0/1e9, get_v[1], label = '3rd run')\n",
    "\n",
    "\n",
    "get_v = vna.channels.S21.trace_mag_phase.get()\n",
    "ax[0].plot(fr0/1e9, get_v[0], label = '4th run')\n",
    "ax[1].plot(fr0/1e9, get_v[1], label = '4th run')\n",
    "\n",
    "\n",
    "get_v = vna.channels.S21.trace_mag_phase.get()\n",
    "ax[0].plot(fr0/1e9, get_v[0], label = '5th run')\n",
    "ax[1].plot(fr0/1e9, get_v[1], label = '5th run')\n",
    "\n",
    "s1 = 5.7816341-10e-6\n",
    "print('s1=', s1)\n",
    "# ax[0].vlines(s1, min(get_v[0]), max(get_v[0]), 'g', linestyles='--', label = 'S1')\n",
    "# s2 = 5.7816347-10e-6\n",
    "# ax[0].vlines(s2, min(get_v[0]), max(get_v[0]), 'lightgreen', linestyles='--', label = 'S2')\n",
    "# s3 = 5.7816355-10e-6\n",
    "# ax[0].vlines(s3, min(get_v[0]), max(get_v[0]), 'lightblue', linestyles='--', label = 'S2')\n",
    "ax[0].set_xlabel('Frequency, GHz')\n",
    "ax[1].set_xlabel('Frequency, GHz')\n",
    "ax[0].set_ylabel('Magnitude*(band=100)')\n",
    "ax[1].set_ylabel('Phase')\n",
    "ax[0].legend()\n",
    "ax[1].legend()"
   ]
  },
  {
   "cell_type": "markdown",
   "id": "c761ba7f",
   "metadata": {},
   "source": [
    "# POWER SCAN"
   ]
  },
  {
   "cell_type": "code",
   "execution_count": 15,
   "id": "c48277eb",
   "metadata": {
    "scrolled": true
   },
   "outputs": [
    {
     "name": "stdout",
     "output_type": "stream",
     "text": [
      "run:  0\n",
      "run:  1\n",
      "run:  2\n",
      "run:  3\n",
      "run:  4\n",
      "run:  5\n",
      "run:  6\n",
      "run:  7\n",
      "run:  8\n",
      "run:  9\n",
      "run:  10\n",
      "run:  11\n",
      "run:  12\n",
      "run:  13\n",
      "run:  14\n",
      "run:  15\n",
      "run:  16\n",
      "run:  17\n",
      "run:  18\n",
      "run:  19\n",
      "run:  20\n",
      "run:  21\n",
      "run:  22\n",
      "run:  23\n",
      "run:  24\n",
      "run:  25\n",
      "run:  26\n",
      "run:  27\n",
      "run:  28\n",
      "run:  29\n",
      "run:  30\n",
      "run:  31\n",
      "run:  32\n",
      "run:  33\n",
      "run:  34\n",
      "run:  35\n",
      "run:  36\n",
      "run:  37\n",
      "run:  38\n",
      "run:  39\n",
      "run:  40\n",
      "run:  41\n",
      "run:  42\n",
      "run:  43\n",
      "run:  44\n",
      "run:  45\n",
      "run:  46\n",
      "run:  47\n",
      "run:  48\n",
      "run:  49\n",
      "run:  50\n",
      "run:  51\n",
      "run:  52\n",
      "run:  53\n",
      "run:  54\n",
      "run:  55\n",
      "run:  56\n",
      "run:  57\n",
      "run:  58\n",
      "run:  59\n",
      "run:  60\n",
      "run:  61\n",
      "run:  62\n",
      "run:  63\n",
      "run:  64\n",
      "run:  65\n",
      "run:  66\n",
      "run:  67\n",
      "run:  68\n",
      "run:  69\n",
      "run:  70\n",
      "run:  71\n",
      "run:  72\n",
      "run:  73\n",
      "run:  74\n",
      "run:  75\n",
      "run:  76\n",
      "run:  77\n",
      "run:  78\n",
      "run:  79\n",
      "run:  80\n",
      "run:  81\n",
      "run:  82\n",
      "run:  83\n",
      "run:  84\n",
      "run:  85\n",
      "run:  86\n",
      "run:  87\n",
      "run:  88\n",
      "run:  89\n",
      "run:  90\n",
      "run:  91\n",
      "run:  92\n",
      "run:  93\n",
      "run:  94\n",
      "run:  95\n",
      "run:  96\n",
      "run:  97\n",
      "run:  98\n",
      "run:  99\n",
      "run:  100\n",
      "run:  101\n",
      "run:  102\n",
      "run:  103\n",
      "run:  104\n",
      "run:  105\n",
      "run:  106\n",
      "run:  107\n",
      "run:  108\n",
      "run:  109\n",
      "run:  110\n",
      "run:  111\n",
      "run:  112\n",
      "run:  113\n",
      "run:  114\n",
      "run:  115\n",
      "run:  116\n",
      "run:  117\n",
      "run:  118\n",
      "run:  119\n",
      "run:  120\n",
      "run:  121\n",
      "run:  122\n",
      "run:  123\n",
      "run:  124\n",
      "run:  125\n",
      "run:  126\n",
      "run:  127\n",
      "run:  128\n",
      "run:  129\n",
      "run:  130\n",
      "run:  131\n",
      "run:  132\n",
      "run:  133\n",
      "run:  134\n",
      "run:  135\n",
      "run:  136\n",
      "run:  137\n",
      "run:  138\n",
      "run:  139\n",
      "run:  140\n",
      "run:  141\n",
      "run:  142\n",
      "run:  143\n",
      "run:  144\n",
      "run:  145\n",
      "run:  146\n",
      "run:  147\n",
      "run:  148\n",
      "run:  149\n",
      "run:  150\n",
      "run:  151\n",
      "run:  152\n",
      "run:  153\n",
      "run:  154\n",
      "run:  155\n",
      "run:  156\n",
      "run:  157\n",
      "run:  158\n",
      "run:  159\n",
      "run:  160\n",
      "run:  161\n",
      "run:  162\n",
      "run:  163\n",
      "run:  164\n",
      "run:  165\n",
      "run:  166\n",
      "run:  167\n",
      "run:  168\n",
      "run:  169\n",
      "run:  170\n",
      "run:  171\n",
      "run:  172\n",
      "run:  173\n",
      "run:  174\n",
      "run:  175\n",
      "run:  176\n",
      "run:  177\n",
      "run:  178\n",
      "run:  179\n",
      "run:  180\n",
      "run:  181\n",
      "run:  182\n",
      "run:  183\n",
      "run:  184\n",
      "run:  185\n",
      "run:  186\n",
      "run:  187\n",
      "run:  188\n",
      "run:  189\n",
      "run:  190\n",
      "run:  191\n",
      "run:  192\n",
      "run:  193\n",
      "run:  194\n",
      "run:  195\n",
      "run:  196\n",
      "run:  197\n",
      "run:  198\n",
      "run:  199\n"
     ]
    },
    {
     "data": {
      "text/plain": [
       "[<matplotlib.lines.Line2D at 0x289780ae790>]"
      ]
     },
     "execution_count": 15,
     "metadata": {},
     "output_type": "execute_result"
    }
   ],
   "source": [
    "freq_range = np.array([5.7505e9, 5.805e9])\n",
    "nsteps = 100000\n",
    "fr0 = np.linspace(freq_range[0], freq_range[1], nsteps)\n",
    "\n",
    "powers = np.linspace(-30, 5, 200)\n",
    "\n",
    "\n",
    "vna.channels.S21.power(-30)\n",
    "vna.rf_on()\n",
    "vna.channels.S21.start(freq_range[0])\n",
    "vna.channels.S21.stop(freq_range[1])\n",
    "vna.channels.S21.npts(nsteps)\n",
    "\n",
    "vna.channels.S21.bandwidth(10000)\n",
    "fig, ax = plt.subplots(1,2,figsize=(15,7), sharex=True)\n",
    "\n",
    "xs = np.zeros((len(powers), nsteps))\n",
    "ys = np.zeros((len(powers), nsteps))\n",
    "\n",
    "fr_xs = np.zeros((len(powers)))\n",
    "fr_ys = np.zeros((len(powers)))\n",
    "\n",
    "for i in range(len(powers)):\n",
    "    vna.channels.S21.power(powers[i])\n",
    "    get_v = vna.channels.S21.trace_mag_phase.get()\n",
    "    xs[i] = get_v[0]\n",
    "    ys[i] = get_v[1]\n",
    "    fr_xs[i] = min(get_v[0])\n",
    "    fr_ys[i] = min(get_v[1])\n",
    "    \n",
    "    print('run: ', i)\n",
    "\n",
    "ax[0].plot(powers, fr_xs, label = '1st run')\n",
    "ax[0].plot(powers, fr_ys, label = '1st run')\n"
   ]
  },
  {
   "cell_type": "code",
   "execution_count": 32,
   "id": "0e0717ba",
   "metadata": {},
   "outputs": [
    {
     "name": "stderr",
     "output_type": "stream",
     "text": [
      "C:\\Users\\Demag\\AppData\\Local\\Temp\\ipykernel_41380\\4163112213.py:6: DeprecationWarning: Conversion of an array with ndim > 0 to a scalar is deprecated, and will error in future. Ensure you extract a single element from your array before performing this operation. (Deprecated NumPy 1.25.)\n",
      "  fr_xs[i] = fr0[np.where(xs[i]==min(xs[i]))]\n",
      "C:\\Users\\Demag\\AppData\\Local\\Temp\\ipykernel_41380\\4163112213.py:7: DeprecationWarning: Conversion of an array with ndim > 0 to a scalar is deprecated, and will error in future. Ensure you extract a single element from your array before performing this operation. (Deprecated NumPy 1.25.)\n",
      "  fr_ys[i] = fr0[np.where(ys[i]==min(ys[i]))]\n"
     ]
    },
    {
     "data": {
      "text/plain": [
       "[<matplotlib.lines.Line2D at 0x28916a3f970>]"
      ]
     },
     "execution_count": 32,
     "metadata": {},
     "output_type": "execute_result"
    }
   ],
   "source": [
    "fr_xs = np.zeros((len(powers)))\n",
    "fr_ys = np.zeros((len(powers)))\n",
    "\n",
    "for i in range(len(powers)):\n",
    "\n",
    "    fr_xs[i] = fr0[np.where(xs[i]==min(xs[i]))]\n",
    "    fr_ys[i] = fr0[np.where(ys[i]==min(ys[i]))]\n",
    "        \n",
    "plt.plot(powers, fr_xs)\n",
    "plt.plot(powers, fr_ys)"
   ]
  },
  {
   "cell_type": "code",
   "execution_count": 21,
   "id": "df309d47",
   "metadata": {},
   "outputs": [
    {
     "name": "stdout",
     "output_type": "stream",
     "text": [
      "Folder C:\\Users\\Demag\\PycharmProjects\\ColdMeasurements\\DeMag\\DATA\\Daffing already exists\n"
     ]
    }
   ],
   "source": [
    "Global_data_adress = r\"C:\\Users\\Demag\\PycharmProjects\\ColdMeasurements\\DeMag\\DATA\"\n",
    "exp_name = 'Daffing'\n",
    "adress = Global_data_adress+'\\\\'+exp_name\n",
    "if not os.path.exists(adress):\n",
    "  os.mkdir(adress)\n",
    "  print(\"Folder %s created!\" % adress)\n",
    "else:\n",
    "  print(\"Folder %s already exists\" % adress)"
   ]
  },
  {
   "cell_type": "code",
   "execution_count": 24,
   "id": "84ea0db7",
   "metadata": {},
   "outputs": [],
   "source": [
    "from scipy.io import savemat\n",
    "dict_data=dict()\n",
    "dict_data['freq'] = fr0\n",
    "dict_data['power'] = powers\n",
    "dict_data['vna_bandwidth'] = 10000\n",
    "dict_data['mag'] = xs\n",
    "dict_data['pha'] = ys\n",
    "experiment_name = 'PowerScan_25nm'\n",
    "file_name = adress+'\\\\'+experiment_name+'.mat'\n",
    "savemat(file_name, dict_data)"
   ]
  },
  {
   "cell_type": "code",
   "execution_count": null,
   "id": "989c42fb",
   "metadata": {},
   "outputs": [],
   "source": []
  }
 ],
 "metadata": {
  "kernelspec": {
   "display_name": "Python 3 (ipykernel)",
   "language": "python",
   "name": "python3"
  },
  "language_info": {
   "codemirror_mode": {
    "name": "ipython",
    "version": 3
   },
   "file_extension": ".py",
   "mimetype": "text/x-python",
   "name": "python",
   "nbconvert_exporter": "python",
   "pygments_lexer": "ipython3",
   "version": "3.9.12"
  }
 },
 "nbformat": 4,
 "nbformat_minor": 5
}
