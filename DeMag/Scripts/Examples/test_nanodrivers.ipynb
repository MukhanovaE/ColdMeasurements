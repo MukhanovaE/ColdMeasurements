{
 "cells": [
  {
   "cell_type": "code",
   "execution_count": 1,
   "id": "f171eee7",
   "metadata": {},
   "outputs": [],
   "source": [
    "from nanodrivers.visa_drivers.dc import DC"
   ]
  },
  {
   "cell_type": "code",
   "execution_count": 2,
   "id": "5f493992",
   "metadata": {},
   "outputs": [
    {
     "name": "stdout",
     "output_type": "stream",
     "text": [
      "Connection exist: HEWLETT-PACKARD,33120A,0,7.0-5.0-1.0\n",
      "\n"
     ]
    }
   ],
   "source": [
    "dc = DC()\n",
    "dc.idn()"
   ]
  },
  {
   "cell_type": "code",
   "execution_count": 3,
   "id": "3b9296a9",
   "metadata": {},
   "outputs": [
    {
     "data": {
      "text/plain": [
       "'HEWLETT-PACKARD,33120A,0,7.0-5.0-1.0\\n'"
      ]
     },
     "execution_count": 3,
     "metadata": {},
     "output_type": "execute_result"
    }
   ],
   "source": [
    "dc.query_str('*IDN?')"
   ]
  },
  {
   "cell_type": "code",
   "execution_count": 4,
   "id": "9064f696",
   "metadata": {},
   "outputs": [
    {
     "name": "stdout",
     "output_type": "stream",
     "text": [
      "Connection exist: HEWLETT-PACKARD,33120A,0,7.0-5.0-1.0\n",
      "\n"
     ]
    }
   ],
   "source": [
    "dc.idn()"
   ]
  },
  {
   "cell_type": "code",
   "execution_count": 1,
   "id": "54774e7f",
   "metadata": {},
   "outputs": [],
   "source": [
    "from nanodrivers.visa_drivers.vna import VNA"
   ]
  },
  {
   "cell_type": "code",
   "execution_count": 2,
   "id": "d7ec5438",
   "metadata": {},
   "outputs": [
    {
     "name": "stdout",
     "output_type": "stream",
     "text": [
      "Connection exist: Rohde-Schwarz,ZNB20-2Port,1311601062102129,3.45\n",
      "\n"
     ]
    }
   ],
   "source": [
    "vna = VNA()\n",
    "vna.idn()"
   ]
  },
  {
   "cell_type": "code",
   "execution_count": 25,
   "id": "1e593f07",
   "metadata": {},
   "outputs": [
    {
     "name": "stdout",
     "output_type": "stream",
     "text": [
      "Unable to connect device.\n",
      " VI_ERROR_TMO (-1073807339): Timeout expired before operation completed.\n",
      "Check that device is connected, visible in NI MAX and is not used by another software.\n"
     ]
    },
    {
     "data": {
      "text/plain": [
       "''"
      ]
     },
     "execution_count": 25,
     "metadata": {},
     "output_type": "execute_result"
    }
   ],
   "source": [
    "vna.query('SENSe1:AVERage:COUNt 10')"
   ]
  },
  {
   "cell_type": "code",
   "execution_count": 26,
   "id": "eb90f3d2",
   "metadata": {},
   "outputs": [
    {
     "data": {
      "text/plain": [
       "{'device': <'TCPIPInstrument'('TCPIP0::169.254.36.111::hislip0::INSTR')>,\n",
       " 'type': 'LIN',\n",
       " 'form': 0,\n",
       " 'cent_freq': None,\n",
       " 'span': None,\n",
       " 'star_freq': None,\n",
       " 'stop_freq': None,\n",
       " 'cw_freq': None,\n",
       " 'status': None,\n",
       " 'nop': 100000,\n",
       " 'band': 10000.0,\n",
       " 'power': 0.0}"
      ]
     },
     "execution_count": 26,
     "metadata": {},
     "output_type": "execute_result"
    }
   ],
   "source": [
    "vna.get_instance_attributes()"
   ]
  },
  {
   "cell_type": "code",
   "execution_count": null,
   "id": "35821e6c",
   "metadata": {},
   "outputs": [],
   "source": []
  }
 ],
 "metadata": {
  "kernelspec": {
   "display_name": "Python 3 (ipykernel)",
   "language": "python",
   "name": "python3"
  },
  "language_info": {
   "codemirror_mode": {
    "name": "ipython",
    "version": 3
   },
   "file_extension": ".py",
   "mimetype": "text/x-python",
   "name": "python",
   "nbconvert_exporter": "python",
   "pygments_lexer": "ipython3",
   "version": "3.9.12"
  }
 },
 "nbformat": 4,
 "nbformat_minor": 5
}
