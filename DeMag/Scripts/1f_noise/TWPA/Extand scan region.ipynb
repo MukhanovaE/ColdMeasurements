{
 "cells": [
  {
   "cell_type": "code",
   "execution_count": 1,
   "id": "0538ed48",
   "metadata": {},
   "outputs": [
    {
     "name": "stdout",
     "output_type": "stream",
     "text": [
      "Folder C:\\Users\\Demag\\PycharmProjects\\ColdMeasurements\\DeMag\\DATA\\TWPA_noise already exists\n"
     ]
    }
   ],
   "source": [
    "import pyvisa\n",
    "from qcodes.instrument_drivers.rohde_schwarz import (\n",
    "    RohdeSchwarzZNB8,\n",
    "    RohdeSchwarzZNBChannel,\n",
    ")\n",
    "import matplotlib.pyplot as plt\n",
    "import matplotlib\n",
    "%matplotlib qt\n",
    "\n",
    "import numpy as np\n",
    "from numpy import *\n",
    "from scipy.fft import fft, ifft, fftshift\n",
    "from scipy.io import savemat\n",
    "from datetime import datetime\n",
    "import time\n",
    "\n",
    "import os\n",
    "Global_data_adress = r\"C:\\Users\\Demag\\PycharmProjects\\ColdMeasurements\\DeMag\\DATA\"\n",
    "exp_name = 'TWPA_noise'\n",
    "adress = Global_data_adress+'\\\\'+exp_name\n",
    "if not os.path.exists(adress):\n",
    "  os.mkdir(adress)\n",
    "  print(\"Folder %s created!\" % adress)\n",
    "else:\n",
    "  print(\"Folder %s already exists\" % adress)"
   ]
  },
  {
   "cell_type": "code",
   "execution_count": 2,
   "id": "32564fef",
   "metadata": {},
   "outputs": [
    {
     "name": "stdout",
     "output_type": "stream",
     "text": [
      "Folder C:\\Users\\Demag\\PycharmProjects\\ColdMeasurements\\DeMag\\DATA\\TWPA_noise\\2023-09-19 already exists\n"
     ]
    }
   ],
   "source": [
    "now = datetime.now()\n",
    "path = adress +'\\\\'+ now.strftime('%Y-%m-%d')\n",
    "if not os.path.exists(path):\n",
    "  os.mkdir(path)\n",
    "  print(\"Folder %s created!\" % path)\n",
    "else:\n",
    "  print(\"Folder %s already exists\" % path)"
   ]
  },
  {
   "cell_type": "markdown",
   "id": "6ee42549",
   "metadata": {},
   "source": [
    "# VNA init"
   ]
  },
  {
   "cell_type": "code",
   "execution_count": 3,
   "id": "d882ca6e",
   "metadata": {},
   "outputs": [],
   "source": [
    "def magtodb(mag): return 20*np.log10(mag)\n",
    "\n",
    "def vna_setup_CW(cw_frequency=6e9, vna_power=-30, bandwidth=10):\n",
    "    try: print(vna.query('*IDN?'))                 # check if connection already exist\n",
    "    except:                                        # if no connection\n",
    "        rm = pyvisa.ResourceManager()\n",
    "        vna = rm.open_resource('GPIB0::20::INSTR') # GPIB connection\n",
    "        print(vna.query('*IDN?'))\n",
    "        \n",
    "    vna.write(':SENS1:BAND {}'.format(str(bandwidth))) # set defoult bandwidth\n",
    "    vna.write('SOUR1:POW {}'.format(str(vna_power)))   # set defoult power\n",
    "    vna.write('INIT1:CONT OFF')                        # single-sweep mode\n",
    "    vna.write('SENS1:SWE:POIN 201')                    # set maximum possible number of points for single sweep\n",
    "    vna.write(':SENS1:SWE:TYPE CW')                    # set CW mode of measurements\n",
    "    return vna\n",
    "\n",
    "\n",
    "def vna_on(): vna.write('OUTP ON')\n",
    "def vna_off(): vna.write('OUTP OFF')\n",
    "    \n",
    "def vna_ask_meas_points(): \n",
    "    return int(vna.query('SENS1:SWE:POIN?'))  # should be 201\n",
    "\n",
    "def vna_set_meas_points(points): \n",
    "    return int(vna.write('SENS1:SWE:POIN {}'.format(str(points))))  # should be 201\n",
    "\n",
    "\n",
    "def vna_sweep_time(): \n",
    "    return float(vna.query('SENS1:SWE:TIME?'))  # estimated sweep time for current settings of vna\n",
    "\n",
    "def vna_set_cw_freq(freq): \n",
    "    vna.write('SENS1:FREQ:CW {}'.format(str(freq))) # set single frequency point for CW mode in Hz\n",
    "\n",
    "def vna_set_power(power): \n",
    "    vna.write('SOUR1:POW {}'.format(str(power))) # set power\n",
    "    \n",
    "def vna_set_band(bandwidth): \n",
    "    vna.write(':SENS1:BAND {}'.format(str(bandwidth))) # set power\n",
    "    \n",
    "def vna_meas_cw(delay = 0):\n",
    "    vna_on()    \n",
    "    if delay !=0:\n",
    "        vna.write(\"INIT1:IMM\")\n",
    "        # start measurement\n",
    "        time.sleep(delay) # this part is important becouse the measurement nedds to finnish before readout process\n",
    "        vna.write(\"CALC1:FORM MLOG\")                        # format of data\n",
    "        data_str = vna.query(\"CALC1:DATA? SDAT\")            # readout\n",
    "    else: \n",
    "        vna.write(\"INIT1:IMM\")\n",
    "        # start measurement\n",
    "        time.sleep(0.2+float(vna.query('SENS1:SWE:TIME?'))) # this part is important becouse the measurement nedds to finnish before readout process\n",
    "        vna.write(\"CALC1:FORM MLOG\")                        # format of data\n",
    "        data_str = vna.query(\"CALC1:DATA? SDAT\")            # readout\n",
    "        \n",
    "    data = np.array(data_str.rstrip().split(\",\")).astype(\"float64\")\n",
    "    s = data[0::2] + 1j * data[1::2]\n",
    "    i = data[0::2]\n",
    "    q = data[1::2]\n",
    "    return abs(s), angle(s)\n",
    "\n",
    "def fft_f(bandwidth=10, nop=201):\n",
    "    f = np.linspace(-bandwidth/2, bandwidth/2, nop)\n",
    "    return f\n",
    "\n",
    "def fft_A(A):\n",
    "    fft_A = abs(fftshift(fft(A))**2)\n",
    "    return fft_A"
   ]
  },
  {
   "cell_type": "code",
   "execution_count": 4,
   "id": "fafce61f",
   "metadata": {},
   "outputs": [
    {
     "name": "stdout",
     "output_type": "stream",
     "text": [
      "Rohde-Schwarz,ZNB20-2Port,1311601062102129,3.45\n",
      "\n"
     ]
    }
   ],
   "source": [
    "vna = vna_setup_CW() # initializing or checking for connection"
   ]
  },
  {
   "cell_type": "code",
   "execution_count": 73,
   "id": "46f69f5e",
   "metadata": {},
   "outputs": [
    {
     "data": {
      "text/plain": [
       "[<matplotlib.lines.Line2D at 0x245bcd56160>]"
      ]
     },
     "execution_count": 73,
     "metadata": {},
     "output_type": "execute_result"
    }
   ],
   "source": [
    "fig, ax = plt.subplots(1,2,figsize=(15,7), sharex=True)\n",
    "ax[0].set_xlabel('Frequency, GHz')\n",
    "ax[1].set_xlabel('Frequency, GHz')\n",
    "ax[0].set_ylabel('Magnitude')\n",
    "ax[1].set_ylabel('Phase')\n",
    "\n",
    "\n",
    "vna.write(\"INIT1:IMM\")\n",
    "vna_set_meas_points(401)\n",
    "data_str = vna.query(\"CALC1:DATA? SDAT\")            # readout\n",
    "data = np.array(data_str.rstrip().split(\",\")).astype(\"float64\")\n",
    "s = data[0::2] + 1j * data[1::2]\n",
    "ax[0].plot(abs(s))\n",
    "ax[1].plot(angle(s))\n",
    "time.sleep(10)\n",
    "\n",
    "data_str = vna.query(\"CALC1:DATA? SDAT\")            # readout\n",
    "data = np.array(data_str.rstrip().split(\",\")).astype(\"float64\")\n",
    "s = data[0::2] + 1j * data[1::2]\n",
    "ax[0].plot(abs(s))\n",
    "ax[1].plot(angle(s))\n",
    "time.sleep(10)\n",
    "\n",
    "data_str = vna.query(\"CALC1:DATA? SDAT\")            # readout\n",
    "data = np.array(data_str.rstrip().split(\",\")).astype(\"float64\")\n",
    "s = data[0::2] + 1j * data[1::2]\n",
    "ax[0].plot(abs(s))\n",
    "ax[1].plot(angle(s))"
   ]
  },
  {
   "cell_type": "code",
   "execution_count": 64,
   "id": "1e63bed2",
   "metadata": {},
   "outputs": [],
   "source": [
    "vna_set_cw_freq(5.78195e9)\n",
    "vna_set_power(-10)\n",
    "vna_set_band(10)\n",
    "vna_set_meas_points(201)\n",
    "\n",
    "delay = 1\n",
    "\n",
    "mag1, pha1 = vna_meas_cw()\n",
    "time.sleep(delay)\n",
    "mag2, pha2 = vna_meas_cw(delay)"
   ]
  },
  {
   "cell_type": "code",
   "execution_count": 34,
   "id": "f5a5dca6",
   "metadata": {},
   "outputs": [
    {
     "data": {
      "text/plain": [
       "Text(0, 0.5, 'Phase')"
      ]
     },
     "execution_count": 34,
     "metadata": {},
     "output_type": "execute_result"
    }
   ],
   "source": [
    "fig, ax = plt.subplots(1,2,figsize=(15,7), sharex=True)\n",
    "ax[0].loglog(fft_f(nop=40), fft_A(mag1))\n",
    "ax[1].loglog(fft_f(nop=402), fft_A(pha1))\n",
    "\n",
    "ax[0].loglog(fft_f(nop=402), fft_A(mag2))\n",
    "ax[1].loglog(fft_f(nop=402), fft_A(pha2))\n",
    "\n",
    "ax[0].set_xlabel('Frequency, GHz')\n",
    "ax[1].set_xlabel('Frequency, GHz')\n",
    "ax[0].set_ylabel('Magnitude')\n",
    "ax[1].set_ylabel('Phase')"
   ]
  },
  {
   "cell_type": "code",
   "execution_count": 55,
   "id": "ccf4d4a0",
   "metadata": {},
   "outputs": [
    {
     "data": {
      "text/plain": [
       "Text(0, 0.5, 'Phase')"
      ]
     },
     "execution_count": 55,
     "metadata": {},
     "output_type": "execute_result"
    }
   ],
   "source": [
    "fig, ax = plt.subplots(1,2,figsize=(15,7), sharex=True)\n",
    "end_time_1 = 41.1246\n",
    "delta = end_time_1/201\n",
    "time_1 = np.linspace(0, end_time_1, 201)\n",
    "time_2 = np.linspace(end_time_1, 2*end_time_1, 201)+delta\n",
    "time_tot = np.append(time_1, time_2)\n",
    "\n",
    "\n",
    "ax[0].loglog(fft_A(time_1), fft_A(mag1[:201]))\n",
    "ax[1].loglog(fft_A(time_1), fft_A(pha1[:201]))\n",
    "\n",
    "\n",
    "ax[0].set_xlabel('Frequency, GHz')\n",
    "ax[1].set_xlabel('Frequency, GHz')\n",
    "ax[0].set_ylabel('Magnitude')\n",
    "ax[1].set_ylabel('Phase')"
   ]
  },
  {
   "cell_type": "code",
   "execution_count": 57,
   "id": "5df1541c",
   "metadata": {},
   "outputs": [
    {
     "data": {
      "text/plain": [
       "'41.1246\\n'"
      ]
     },
     "execution_count": 57,
     "metadata": {},
     "output_type": "execute_result"
    }
   ],
   "source": [
    "vna_set_meas_points(201)\n",
    "vna.query('SENS1:SWE:TIME?')"
   ]
  },
  {
   "cell_type": "code",
   "execution_count": 59,
   "id": "2d2e2cfe",
   "metadata": {},
   "outputs": [
    {
     "data": {
      "text/plain": [
       "'41.1246\\n'"
      ]
     },
     "execution_count": 59,
     "metadata": {},
     "output_type": "execute_result"
    }
   ],
   "source": [
    "vna_set_meas_points(402)\n",
    "vna.query('SENS1:SWE:TIME?')"
   ]
  },
  {
   "cell_type": "code",
   "execution_count": null,
   "id": "ccebd165",
   "metadata": {},
   "outputs": [],
   "source": []
  }
 ],
 "metadata": {
  "kernelspec": {
   "display_name": "Python 3 (ipykernel)",
   "language": "python",
   "name": "python3"
  },
  "language_info": {
   "codemirror_mode": {
    "name": "ipython",
    "version": 3
   },
   "file_extension": ".py",
   "mimetype": "text/x-python",
   "name": "python",
   "nbconvert_exporter": "python",
   "pygments_lexer": "ipython3",
   "version": "3.9.12"
  }
 },
 "nbformat": 4,
 "nbformat_minor": 5
}
