{
 "cells": [
  {
   "cell_type": "code",
   "execution_count": 1,
   "id": "64b9ccd1",
   "metadata": {},
   "outputs": [
    {
     "name": "stdout",
     "output_type": "stream",
     "text": [
      "Folder C:\\Users\\Demag\\PycharmProjects\\ColdMeasurements\\DeMag\\DATA\\TWPA_noise already exists\n"
     ]
    }
   ],
   "source": [
    "import pyvisa\n",
    "from qcodes.instrument_drivers.rohde_schwarz import (\n",
    "    RohdeSchwarzZNB8,\n",
    "    RohdeSchwarzZNBChannel,\n",
    ")\n",
    "import matplotlib.pyplot as plt\n",
    "import matplotlib\n",
    "%matplotlib inline\n",
    "\n",
    "import numpy as np\n",
    "from numpy import *\n",
    "from scipy.fft import fft, ifft, fftshift\n",
    "from scipy.io import savemat\n",
    "from datetime import datetime\n",
    "\n",
    "import os\n",
    "import json\n",
    "Global_data_adress = r\"C:\\Users\\Demag\\PycharmProjects\\ColdMeasurements\\DeMag\\DATA\"\n",
    "exp_name = 'TWPA_noise'\n",
    "adress = Global_data_adress+'\\\\'+exp_name\n",
    "if not os.path.exists(adress):\n",
    "  os.mkdir(adress)\n",
    "  print(\"Folder %s created!\" % adress)\n",
    "else:\n",
    "  print(\"Folder %s already exists\" % adress)"
   ]
  },
  {
   "cell_type": "markdown",
   "id": "65466aa7",
   "metadata": {},
   "source": [
    "Create a folder for measurement data"
   ]
  },
  {
   "cell_type": "code",
   "execution_count": 2,
   "id": "049c7a57",
   "metadata": {},
   "outputs": [
    {
     "name": "stdout",
     "output_type": "stream",
     "text": [
      "Folder C:\\Users\\Demag\\PycharmProjects\\ColdMeasurements\\DeMag\\DATA\\TWPA_noise\\2023-09-15 already exists\n"
     ]
    }
   ],
   "source": [
    "now = datetime.now()\n",
    "path = adress +'\\\\'+ now.strftime('%Y-%m-%d')\n",
    "if not os.path.exists(path):\n",
    "  os.mkdir(path)\n",
    "  print(\"Folder %s created!\" % path)\n",
    "else:\n",
    "  print(\"Folder %s already exists\" % path)"
   ]
  },
  {
   "cell_type": "code",
   "execution_count": 3,
   "id": "2715f5ba",
   "metadata": {},
   "outputs": [
    {
     "name": "stdout",
     "output_type": "stream",
     "text": [
      "Connected to: Rohde-Schwarz ZNB20-2Port (serial:1311601062102129, firmware:3.45) in 0.08s\n"
     ]
    }
   ],
   "source": [
    "try: print(vna.query('*IDN?'))\n",
    "except: \n",
    "    vna = RohdeSchwarzZNB8('VNA', 'GPIB0::20::INSTR', init_s_params=False, reset_channels=False)\n",
    "    vna.add_channel('S21')\n",
    "    vna.display_single_window()\n",
    "    vna.channels.autoscale()\n",
    "    vna.channels.S21.setup_cw_sweep()\n",
    "\n",
    "def setup_vna_CW(cw_frequency=6e9, vna_power=-20, npts=10, bandwidth=10):\n",
    "    vna.channels.S21.power(vna_power)\n",
    "    vna.channels.S21.npts(npts)\n",
    "    vna.channels.S21.bandwidth(bandwidth)\n",
    "    vna.channels.S21._set_cw_frequency(cw_frequency)\n",
    "    vna.rf_on()\n",
    "    I, Q = vna.channels.S21._get_cw_data()\n",
    "    vna.rf_off()\n",
    "    S=I+1j*Q\n",
    "    return abs(S), np.angle(S)"
   ]
  },
  {
   "cell_type": "code",
   "execution_count": 4,
   "id": "3782da67",
   "metadata": {},
   "outputs": [
    {
     "name": "stdout",
     "output_type": "stream",
     "text": [
      "AnaPico AG,APMS20G,3C6-0B4F40003-0985,0.4.204\n",
      "\n"
     ]
    }
   ],
   "source": [
    "try: print(anapico.query('*IDN?'))\n",
    "except: \n",
    "    rm = pyvisa.ResourceManager()\n",
    "#     anapico = rm.open_resource('USB0::0x03EB::0xAFFF::3C6-0B4F40003-0985::INSTR') # USB connection\n",
    "    anapico = rm.open_resource('TCPIP0::169.254.5.91::inst0::INSTR') # LAN connection\n",
    "    print(anapico.query('*IDN?'))\n",
    "\n",
    "\n",
    "def setup_anapico(power=-30, frequency = 6e9, channel = 1):\n",
    "    if flux_power<=-6:\n",
    "        print('Flux power set:', power)\n",
    "        anapico.write(r'SOUR{}:POW {}'.format(str(channel), str(power)))\n",
    "        anapico.write(r'SOUR{}:FREQ {}'.format(str(channel), str(frequency)))\n",
    "        return True\n",
    "    else: \n",
    "        print('Flux power is too high:', flux_power)\n",
    "        return False"
   ]
  },
  {
   "cell_type": "code",
   "execution_count": 5,
   "id": "bc4a451b",
   "metadata": {},
   "outputs": [],
   "source": [
    "flux_powers = np.linspace(-30, -6, 20)\n",
    "# flux_powers = np.linspace(-10, -6, 1)\n",
    "\n",
    "flux_freq = 11.252e9\n",
    "avg_total = 200\n",
    "\n",
    "vna_freq = 5.78195e9\n",
    "vna_bandwidth = 100\n",
    "number_of_points = int(vna.ask('SENS1:SWE:POIN?'))\n",
    "vna_power = 0"
   ]
  },
  {
   "cell_type": "code",
   "execution_count": 56,
   "id": "3aee2d9a",
   "metadata": {},
   "outputs": [
    {
     "name": "stdout",
     "output_type": "stream",
     "text": [
      "Flux power set: -30.0\n",
      "Flux power set: -28.736842105263158\n",
      "Flux power set: -27.473684210526315\n",
      "Flux power set: -26.210526315789473\n",
      "Flux power set: -24.94736842105263\n",
      "Flux power set: -23.684210526315788\n",
      "Flux power set: -22.42105263157895\n",
      "Flux power set: -21.157894736842106\n",
      "Flux power set: -19.894736842105264\n",
      "Flux power set: -18.63157894736842\n",
      "Flux power set: -17.36842105263158\n",
      "Flux power set: -16.10526315789474\n",
      "Flux power set: -14.842105263157896\n",
      "Flux power set: -13.578947368421055\n",
      "Flux power set: -12.315789473684212\n",
      "Flux power set: -11.05263157894737\n",
      "Flux power set: -9.789473684210527\n",
      "Flux power set: -8.526315789473685\n",
      "Flux power set: -7.2631578947368425\n",
      "Flux power set: -6.0\n"
     ]
    },
    {
     "data": {
      "text/plain": [
       "11"
      ]
     },
     "execution_count": 56,
     "metadata": {},
     "output_type": "execute_result"
    }
   ],
   "source": [
    "anapico.write(r'SOUR1:POW -30')\n",
    "anapico.write(r'OUTP1 OFF')\n",
    "data = dict.fromkeys(flux_powers, None)\n",
    "for ip, flux_power in enumerate(flux_powers):\n",
    "    anapico.write(r'OUTP1 ON')\n",
    "    status = setup_anapico(power=flux_power, frequency = flux_freq)\n",
    "    if status:\n",
    "        fft_avg_mag = np.zeros(number_of_points)\n",
    "        fft_avg_pha = np.zeros(number_of_points)\n",
    "        for avg in range(avg_total):\n",
    "            mag, pha = setup_vna_CW(vna_freq, vna_power, number_of_points, vna_bandwidth)\n",
    "            fft_avg_mag+=fft_A(mag)\n",
    "            fft_avg_pha+=fft_A(pha)\n",
    "            \n",
    "        data[flux_power] = np.array([[fft_avg_mag/avg_total], [fft_avg_pha/avg_total]])\n",
    "        \n",
    "anapico.write(r'OUTP1 OFF')\n",
    "# anapico.close()"
   ]
  },
  {
   "cell_type": "code",
   "execution_count": 6,
   "id": "3e42aa4f",
   "metadata": {},
   "outputs": [
    {
     "ename": "NameError",
     "evalue": "name 'fft_f' is not defined",
     "output_type": "error",
     "traceback": [
      "\u001b[1;31m---------------------------------------------------------------------------\u001b[0m",
      "\u001b[1;31mNameError\u001b[0m                                 Traceback (most recent call last)",
      "Cell \u001b[1;32mIn[6], line 3\u001b[0m\n\u001b[0;32m      1\u001b[0m get_ipython()\u001b[38;5;241m.\u001b[39mrun_line_magic(\u001b[38;5;124m'\u001b[39m\u001b[38;5;124mmatplotlib\u001b[39m\u001b[38;5;124m'\u001b[39m, \u001b[38;5;124m'\u001b[39m\u001b[38;5;124mqt\u001b[39m\u001b[38;5;124m'\u001b[39m)\n\u001b[0;32m      2\u001b[0m \u001b[38;5;28;01mfor\u001b[39;00m i \u001b[38;5;129;01min\u001b[39;00m \u001b[38;5;28mrange\u001b[39m(\u001b[38;5;28mlen\u001b[39m(flux_powers)):\n\u001b[1;32m----> 3\u001b[0m     plt\u001b[38;5;241m.\u001b[39mloglog(\u001b[43mfft_f\u001b[49m(), data[flux_powers[i]][\u001b[38;5;241m1\u001b[39m][\u001b[38;5;241m0\u001b[39m])\n",
      "\u001b[1;31mNameError\u001b[0m: name 'fft_f' is not defined"
     ]
    }
   ],
   "source": [
    "%matplotlib qt\n",
    "for i in range(len(flux_powers)):\n",
    "    plt.loglog(fft_f(), data[flux_powers[i]][1][0])"
   ]
  },
  {
   "cell_type": "code",
   "execution_count": 73,
   "id": "121a9074",
   "metadata": {},
   "outputs": [
    {
     "data": {
      "text/plain": [
       "<matplotlib.legend.Legend at 0x2b222665820>"
      ]
     },
     "execution_count": 73,
     "metadata": {},
     "output_type": "execute_result"
    }
   ],
   "source": [
    "ind = [0, 4,  8, 10, 12, 14, 16, 17, 18, 19]\n",
    "fig, ax = plt.subplots(1,2,figsize=(15,7), sharex=True)\n",
    "for i in ind:\n",
    "    ax[0].loglog(fft_f(), data[flux_powers[i]][1][0], label = '{}'.format(round(flux_powers[i],2)))\n",
    "    ax[1].loglog(fft_f(), data[flux_powers[i]][0][0], label = '{}'.format(round(flux_powers[i],2)))\n",
    "    \n",
    "ax[0].set_xlabel('Frequency, GHz')\n",
    "ax[1].set_xlabel('Frequency, GHz')\n",
    "ax[0].set_ylabel('Magnitude')\n",
    "ax[1].set_ylabel('Phase')\n",
    "ax[0].legend()\n",
    "ax[1].legend()"
   ]
  },
  {
   "cell_type": "code",
   "execution_count": 48,
   "id": "cdf745c2",
   "metadata": {},
   "outputs": [],
   "source": [
    "d3 = data[flux_powers[0]][1][0]"
   ]
  },
  {
   "cell_type": "code",
   "execution_count": 44,
   "id": "df796709",
   "metadata": {},
   "outputs": [],
   "source": [
    "d2 = data[flux_powers[0]][1][0]"
   ]
  },
  {
   "cell_type": "code",
   "execution_count": 40,
   "id": "1a051714",
   "metadata": {},
   "outputs": [],
   "source": [
    "d1 = data[flux_powers[0]][1][0]"
   ]
  },
  {
   "cell_type": "code",
   "execution_count": 58,
   "id": "c2e07518",
   "metadata": {},
   "outputs": [],
   "source": [
    "# flux_powers = np.linspace(-30, -6, 20)\n",
    "flux_powers = -6\n",
    "\n",
    "flux_freq = 11.252e9\n",
    "avg_total = 200\n",
    "\n",
    "vna_freq = 5.78195e9\n",
    "vna_bandwidth = 100\n",
    "number_of_points = int(vna.ask('SENS1:SWE:POIN?'))\n",
    "vna_powers = np.linspace(-30, 0, 20)"
   ]
  },
  {
   "cell_type": "code",
   "execution_count": 59,
   "id": "0eb7ef72",
   "metadata": {},
   "outputs": [
    {
     "ename": "TypeError",
     "evalue": "'int' object is not iterable",
     "output_type": "error",
     "traceback": [
      "\u001b[1;31m---------------------------------------------------------------------------\u001b[0m",
      "\u001b[1;31mTypeError\u001b[0m                                 Traceback (most recent call last)",
      "Cell \u001b[1;32mIn[59], line 3\u001b[0m\n\u001b[0;32m      1\u001b[0m anapico\u001b[38;5;241m.\u001b[39mwrite(\u001b[38;5;124mr\u001b[39m\u001b[38;5;124m'\u001b[39m\u001b[38;5;124mSOUR1:POW -30\u001b[39m\u001b[38;5;124m'\u001b[39m)\n\u001b[0;32m      2\u001b[0m anapico\u001b[38;5;241m.\u001b[39mwrite(\u001b[38;5;124mr\u001b[39m\u001b[38;5;124m'\u001b[39m\u001b[38;5;124mOUTP1 OFF\u001b[39m\u001b[38;5;124m'\u001b[39m)\n\u001b[1;32m----> 3\u001b[0m data_vna_sweep \u001b[38;5;241m=\u001b[39m \u001b[38;5;28;43mdict\u001b[39;49m\u001b[38;5;241;43m.\u001b[39;49m\u001b[43mfromkeys\u001b[49m\u001b[43m(\u001b[49m\u001b[43mflux_powers\u001b[49m\u001b[43m,\u001b[49m\u001b[43m \u001b[49m\u001b[38;5;28;43;01mNone\u001b[39;49;00m\u001b[43m)\u001b[49m\n\u001b[0;32m      4\u001b[0m \u001b[38;5;28;01mfor\u001b[39;00m ip, vna_power \u001b[38;5;129;01min\u001b[39;00m \u001b[38;5;28menumerate\u001b[39m(vna_powers):\n\u001b[0;32m      5\u001b[0m     anapico\u001b[38;5;241m.\u001b[39mwrite(\u001b[38;5;124mr\u001b[39m\u001b[38;5;124m'\u001b[39m\u001b[38;5;124mOUTP1 ON\u001b[39m\u001b[38;5;124m'\u001b[39m)\n",
      "\u001b[1;31mTypeError\u001b[0m: 'int' object is not iterable"
     ]
    }
   ],
   "source": [
    "anapico.write(r'SOUR1:POW -30')\n",
    "anapico.write(r'OUTP1 OFF')\n",
    "data_vna_sweep = dict.fromkeys(flux_powers, None)\n",
    "for ip, vna_power in enumerate(vna_powers):\n",
    "    anapico.write(r'OUTP1 ON')\n",
    "    status = setup_anapico(power=flux_powers, frequency = flux_freq)\n",
    "    if status:\n",
    "        fft_avg_mag = np.zeros(number_of_points)\n",
    "        fft_avg_pha = np.zeros(number_of_points)\n",
    "        for avg in range(avg_total):\n",
    "            mag, pha = setup_vna_CW(vna_freq, vna_power, number_of_points, vna_bandwidth)\n",
    "            fft_avg_mag+=fft_A(mag)\n",
    "            fft_avg_pha+=fft_A(pha)\n",
    "            \n",
    "        data_vna_sweep[flux_power] = np.array([[fft_avg_mag/avg_total], [fft_avg_pha/avg_total]])\n",
    "        \n",
    "anapico.write(r'OUTP1 OFF')\n",
    "# anapico.close()"
   ]
  },
  {
   "cell_type": "code",
   "execution_count": null,
   "id": "0af11cd5",
   "metadata": {},
   "outputs": [],
   "source": [
    "plt.loglog(fft_f(), data_vna_sweep[vna_freq[:]][1][0])"
   ]
  },
  {
   "cell_type": "code",
   "execution_count": 33,
   "id": "d17dfeeb",
   "metadata": {},
   "outputs": [],
   "source": [
    "def fft_A(A):\n",
    "    fft_A = abs(fftshift(fft(A))**2)\n",
    "    return fft_A\n",
    "\n",
    "def fft_f(bandwidth=vna_bandwidth, nop=number_of_points):\n",
    "    f = np.linspace(-bandwidth/2, bandwidth/2, nop)\n",
    "    return f"
   ]
  },
  {
   "cell_type": "code",
   "execution_count": 9,
   "id": "18c5ad9a",
   "metadata": {
    "scrolled": true
   },
   "outputs": [],
   "source": [
    "%matplotlib qt\n",
    "for power in flux_powers:\n",
    "    selected_data = data[power][1]\n",
    "    mag = np.zeros(len(selected_data[0][0,:]))\n",
    "    pha = np.zeros(len(selected_data[0][0,:]))\n",
    "    M = np.array([])\n",
    "    P = np.array([])\n",
    "    for i in range(avg_total):\n",
    "        mag1 = selected_data[i][0,0,:]\n",
    "        pha1 = selected_data[i][1,0,:]\n",
    "        mag = mag+mag1\n",
    "        pha=pha+pha1\n",
    "\n",
    "#     f, A =  plot_noise(mag)\n",
    "#     plt.loglog(f, A)\n",
    "    f, A =  plot_noise(pha)\n",
    "    plt.loglog(f, A)"
   ]
  },
  {
   "cell_type": "code",
   "execution_count": 76,
   "id": "702089c6",
   "metadata": {},
   "outputs": [],
   "source": [
    "data_to_save=np.empty((len(flux_powers),2,number_of_points))\n",
    "for i in range(len(flux_powers)):\n",
    "    for j in range(2):\n",
    "        for k in range(number_of_points): \n",
    "            data_to_save[i,j,k] = data[flux_powers[i]][j][0][k]"
   ]
  },
  {
   "cell_type": "code",
   "execution_count": 79,
   "id": "966ec909",
   "metadata": {},
   "outputs": [
    {
     "data": {
      "text/plain": [
       "[<matplotlib.lines.Line2D at 0x2b224cf8af0>]"
      ]
     },
     "execution_count": 79,
     "metadata": {},
     "output_type": "execute_result"
    }
   ],
   "source": [
    "plt.loglog(fft_f(), data_to_save[-2,1,:])"
   ]
  },
  {
   "cell_type": "code",
   "execution_count": 80,
   "id": "282546f8",
   "metadata": {},
   "outputs": [],
   "source": [
    "dict_data=dict()\n",
    "dict_data['flux_powers'] = flux_powers\n",
    "dict_data['data'] = data_to_save\n",
    "dict_data['freqs'] = fft_f()\n",
    "\n",
    "experiment_name = 'Saving_test'\n",
    "file_name = path+'\\\\'+experiment_name+now.strftime(r'%H-%M-%S')+'.mat'\n",
    "savemat(file_name, dict_data)"
   ]
  },
  {
   "cell_type": "markdown",
   "id": "f8427ed3",
   "metadata": {},
   "source": [
    "Create log file"
   ]
  },
  {
   "cell_type": "code",
   "execution_count": 81,
   "id": "c4b7eb44",
   "metadata": {},
   "outputs": [],
   "source": [
    "comment = 'Power Sweep for TWPA for different flux powers and fixed VNA powers'\n",
    "\n",
    "\n",
    "file_name = adress +'\\\\'+'log_'+exp_name+'.txt'\n",
    "# f = open(file_name, 'w+')  # open if not exist\n",
    "f = open(file_name, 'a')  # append  to existing file\n",
    "f.write(str(datetime.now().strftime('%Y-%m-%d %H:%M:%S'))+':   ')\n",
    "f.write(comment+'\\n')\n",
    "f.close()"
   ]
  },
  {
   "cell_type": "code",
   "execution_count": null,
   "id": "23edfa9a",
   "metadata": {},
   "outputs": [],
   "source": []
  }
 ],
 "metadata": {
  "kernelspec": {
   "display_name": "Python 3 (ipykernel)",
   "language": "python",
   "name": "python3"
  },
  "language_info": {
   "codemirror_mode": {
    "name": "ipython",
    "version": 3
   },
   "file_extension": ".py",
   "mimetype": "text/x-python",
   "name": "python",
   "nbconvert_exporter": "python",
   "pygments_lexer": "ipython3",
   "version": "3.9.12"
  }
 },
 "nbformat": 4,
 "nbformat_minor": 5
}
