{
 "cells": [
  {
   "cell_type": "code",
   "execution_count": 8,
   "id": "64b9ccd1",
   "metadata": {},
   "outputs": [
    {
     "name": "stdout",
     "output_type": "stream",
     "text": [
      "Folder C:\\Users\\Demag\\PycharmProjects\\ColdMeasurements\\DeMag\\DATA\\TWPA_noise already exists\n"
     ]
    }
   ],
   "source": [
    "import pyvisa\n",
    "from qcodes.instrument_drivers.rohde_schwarz import (\n",
    "    RohdeSchwarzZNB8,\n",
    "    RohdeSchwarzZNBChannel,\n",
    ")\n",
    "import matplotlib.pyplot as plt\n",
    "import matplotlib\n",
    "%matplotlib qt\n",
    "\n",
    "import numpy as np\n",
    "from numpy import *\n",
    "from scipy.fft import fft, ifft, fftshift\n",
    "from scipy.io import savemat\n",
    "from datetime import datetime\n",
    "import time\n",
    "\n",
    "import os\n",
    "Global_data_adress = r\"C:\\Users\\Demag\\PycharmProjects\\ColdMeasurements\\DeMag\\DATA\"\n",
    "exp_name = 'TWPA_noise'\n",
    "adress = Global_data_adress+'\\\\'+exp_name\n",
    "if not os.path.exists(adress):\n",
    "  os.mkdir(adress)\n",
    "  print(\"Folder %s created!\" % adress)\n",
    "else:\n",
    "  print(\"Folder %s already exists\" % adress)"
   ]
  },
  {
   "cell_type": "markdown",
   "id": "65466aa7",
   "metadata": {},
   "source": [
    "Create a folder for measurement data"
   ]
  },
  {
   "cell_type": "code",
   "execution_count": 9,
   "id": "049c7a57",
   "metadata": {},
   "outputs": [
    {
     "name": "stdout",
     "output_type": "stream",
     "text": [
      "Folder C:\\Users\\Demag\\PycharmProjects\\ColdMeasurements\\DeMag\\DATA\\TWPA_noise\\2023-09-19 already exists\n"
     ]
    }
   ],
   "source": [
    "now = datetime.now()\n",
    "path = adress +'\\\\'+ now.strftime('%Y-%m-%d')\n",
    "if not os.path.exists(path):\n",
    "  os.mkdir(path)\n",
    "  print(\"Folder %s created!\" % path)\n",
    "else:\n",
    "  print(\"Folder %s already exists\" % path)"
   ]
  },
  {
   "cell_type": "markdown",
   "id": "98625d5d",
   "metadata": {},
   "source": [
    "# VNA init"
   ]
  },
  {
   "cell_type": "code",
   "execution_count": 10,
   "id": "2715f5ba",
   "metadata": {},
   "outputs": [],
   "source": [
    "def magtodb(mag): return 20*np.log10(mag)\n",
    "\n",
    "def vna_setup_CW(cw_frequency=6e9, vna_power=-30, bandwidth=10):\n",
    "    try: print(vna.query('*IDN?'))                 # check if connection already exist\n",
    "    except:                                        # if no connection\n",
    "        rm = pyvisa.ResourceManager()\n",
    "        vna = rm.open_resource('GPIB0::20::INSTR') # GPIB connection\n",
    "        print(vna.query('*IDN?'))\n",
    "        \n",
    "    vna.write(':SENS1:BAND {}'.format(str(bandwidth))) # set defoult bandwidth\n",
    "    vna.write('SOUR1:POW {}'.format(str(vna_power)))   # set defoult power\n",
    "    vna.write('INIT1:CONT OFF')                        # single-sweep mode\n",
    "    vna.write('SENS1:SWE:POIN 201')                    # set maximum possible number of points for single sweep\n",
    "    vna.write(':SENS1:SWE:TYPE CW')                    # set CW mode of measurements\n",
    "    return vna\n",
    "\n",
    "\n",
    "def vna_on(): vna.write('OUTP ON')\n",
    "def vna_off(): vna.write('OUTP OFF')\n",
    "    \n",
    "def vna_meas_points(): \n",
    "    return int(vna.query('SENS1:SWE:POIN?'))  # should be 201\n",
    "\n",
    "def vna_sweep_time(): \n",
    "    return float(vna.query('SENS1:SWE:TIME?'))  # estimated sweep time for current settings of vna\n",
    "\n",
    "def vna_set_cw_freq(freq): \n",
    "    vna.write('SENS1:FREQ:CW {}'.format(str(freq))) # set single frequency point for CW mode in Hz\n",
    "\n",
    "def vna_set_power(power): \n",
    "    vna.write('SOUR1:POW {}'.format(str(power))) # set power\n",
    "    \n",
    "def vna_set_band(bandwidth): \n",
    "    vna.write(':SENS1:BAND {}'.format(str(bandwidth))) # set power\n",
    "    \n",
    "def vna_meas_cw():\n",
    "    vna_on()\n",
    "    vna.write(\"INIT1:IMM\")                              # start measurement\n",
    "    time.sleep(0.2+float(vna.query('SENS1:SWE:TIME?'))) # this part is important becouse the measurement nedds to finnish before readout process\n",
    "    vna.write(\"CALC1:FORM MLOG\")                        # format of data\n",
    "    data_str = vna.query(\"CALC1:DATA? SDAT\")            # readout\n",
    "    \n",
    "    data = np.array(data_str.rstrip().split(\",\")).astype(\"float64\")\n",
    "    s = data[0::2] + 1j * data[1::2]\n",
    "    i = data[0::2]\n",
    "    q = data[1::2]\n",
    "    return abs(s), angle(s)"
   ]
  },
  {
   "cell_type": "code",
   "execution_count": 11,
   "id": "2ac99d02",
   "metadata": {},
   "outputs": [
    {
     "name": "stdout",
     "output_type": "stream",
     "text": [
      "Rohde-Schwarz,ZNB20-2Port,1311601062102129,3.45\n",
      "\n"
     ]
    }
   ],
   "source": [
    "vna = vna_setup_CW() # initializing or checking for connection"
   ]
  },
  {
   "cell_type": "markdown",
   "id": "3cabc47d",
   "metadata": {},
   "source": [
    "# Single time sweep"
   ]
  },
  {
   "cell_type": "code",
   "execution_count": 168,
   "id": "4e2b97cc",
   "metadata": {
    "scrolled": true
   },
   "outputs": [
    {
     "name": "stdout",
     "output_type": "stream",
     "text": [
      "number of points measured 201 of 201\n"
     ]
    },
    {
     "data": {
      "text/plain": [
       "Text(0, 0.5, 'Phase')"
      ]
     },
     "execution_count": 168,
     "metadata": {},
     "output_type": "execute_result"
    }
   ],
   "source": [
    "# Check time domain data\n",
    "vna_set_cw_freq(6e9)\n",
    "vna_set_power(-30)\n",
    "anapico_power(-20)\n",
    "\n",
    "mag, pha = vna_meas_cw()\n",
    "print('number of points measured {} of {}'.format(len(pha),int(vna_meas_points())))\n",
    "\n",
    "fig, ax = plt.subplots(1,2,figsize=(15,7), sharex=True)\n",
    "ax[0].plot(fft_f(), mag)\n",
    "# ax[0].plot(fft_f(), magtodb(mag))\n",
    "ax[1].plot(fft_f(), pha)\n",
    "ax[0].set_xlabel('Frequency, GHz')\n",
    "ax[1].set_xlabel('Frequency, GHz')\n",
    "ax[0].set_ylabel('Magnitude')\n",
    "ax[1].set_ylabel('Phase')"
   ]
  },
  {
   "cell_type": "markdown",
   "id": "26d9ad24",
   "metadata": {},
   "source": [
    "# ANAPICO init"
   ]
  },
  {
   "cell_type": "code",
   "execution_count": 12,
   "id": "3782da67",
   "metadata": {},
   "outputs": [],
   "source": [
    "def setup_anapico(power=-30, frequency = 6e9, channel = 1):\n",
    "    try: print(anapico.query('*IDN?'))\n",
    "    except: \n",
    "        rm = pyvisa.ResourceManager()\n",
    "#         anapico = rm.open_resource('USB0::0x03EB::0xAFFF::3C6-0B4F40003-0985::INSTR') # USB connection\n",
    "        anapico = rm.open_resource('TCPIP0::169.254.5.91::inst0::INSTR') # LAN connection\n",
    "        print(anapico.query('*IDN?'))\n",
    "    if power<=-6:\n",
    "#         print('Flux power set:', power)\n",
    "        anapico.write(r'SOUR{}:POW {}'.format(str(channel), str(power)))\n",
    "        anapico.write(r'SOUR{}:FREQ {}'.format(str(channel), str(frequency)))\n",
    "    else: \n",
    "        print('Flux power is too high:', power)\n",
    "    return anapico\n",
    "\n",
    "def anapico_on():\n",
    "    anapico.write(r'OUTP1 ON')\n",
    "\n",
    "def anapico_off():\n",
    "    anapico.write(r'OUTP1 OFF')\n",
    "\n",
    "def anapico_freq(freq, channel=1): \n",
    "    anapico.write(r'SOUR{}:FREQ {}'.format(str(channel), str(freq)))\n",
    "\n",
    "def anapico_power(power, channel=1): \n",
    "    anapico.write(r'SOUR{}:POW {}'.format(str(channel), str(power)))"
   ]
  },
  {
   "cell_type": "code",
   "execution_count": 15,
   "id": "2a334d0f",
   "metadata": {},
   "outputs": [
    {
     "name": "stdout",
     "output_type": "stream",
     "text": [
      "AnaPico AG,APMS20G,3C6-0B4F40003-0985,0.4.204\n",
      "\n"
     ]
    }
   ],
   "source": [
    "anapico = setup_anapico() # initializing or checking for connection"
   ]
  },
  {
   "cell_type": "code",
   "execution_count": 17,
   "id": "c1bb628b",
   "metadata": {},
   "outputs": [],
   "source": [
    "anapico.close()"
   ]
  },
  {
   "cell_type": "markdown",
   "id": "1a5f77d4",
   "metadata": {},
   "source": [
    "# Single frequency flux power sweep"
   ]
  },
  {
   "cell_type": "code",
   "execution_count": 179,
   "id": "bc4a451b",
   "metadata": {},
   "outputs": [],
   "source": [
    "#_____________ANAPICO______________\n",
    "flux_powers = np.linspace(-25, -6, 5)\n",
    "flux_freq = 11.252e9 # maximum gain frequency\n",
    "\n",
    "#_____________VNA______________\n",
    "vna_freq = 5.78195e9  #resonance frequency\n",
    "vna_bandwidth = 10\n",
    "number_of_points = vna_meas_points()\n",
    "vna_power = 0\n",
    "\n",
    "avg_total = 2  #separate measurements of vna per each flux power"
   ]
  },
  {
   "cell_type": "code",
   "execution_count": 180,
   "id": "d17dfeeb",
   "metadata": {},
   "outputs": [],
   "source": [
    "def fft_A(A):\n",
    "    fft_A = abs(fftshift(fft(A))**2)\n",
    "    return fft_A\n",
    "\n",
    "def fft_f(bandwidth=vna_bandwidth, nop=number_of_points):\n",
    "    f = np.linspace(-bandwidth/2, bandwidth/2, nop)\n",
    "    return f"
   ]
  },
  {
   "cell_type": "code",
   "execution_count": 181,
   "id": "3aee2d9a",
   "metadata": {},
   "outputs": [
    {
     "ename": "InvalidSession",
     "evalue": "Invalid session handle. The resource might be closed.",
     "output_type": "error",
     "traceback": [
      "\u001b[1;31m---------------------------------------------------------------------------\u001b[0m",
      "\u001b[1;31mInvalidSession\u001b[0m                            Traceback (most recent call last)",
      "Cell \u001b[1;32mIn[181], line 1\u001b[0m\n\u001b[1;32m----> 1\u001b[0m \u001b[43manapico_power\u001b[49m\u001b[43m(\u001b[49m\u001b[38;5;241;43m-\u001b[39;49m\u001b[38;5;241;43m15\u001b[39;49m\u001b[43m)\u001b[49m\n\u001b[0;32m      2\u001b[0m anapico_freq(flux_freq)\n\u001b[0;32m      3\u001b[0m anapico_on()\n",
      "Cell \u001b[1;32mIn[11], line 26\u001b[0m, in \u001b[0;36manapico_power\u001b[1;34m(power, channel)\u001b[0m\n\u001b[0;32m     25\u001b[0m \u001b[38;5;28;01mdef\u001b[39;00m \u001b[38;5;21manapico_power\u001b[39m(power, channel\u001b[38;5;241m=\u001b[39m\u001b[38;5;241m1\u001b[39m): \n\u001b[1;32m---> 26\u001b[0m     \u001b[43manapico\u001b[49m\u001b[38;5;241;43m.\u001b[39;49m\u001b[43mwrite\u001b[49m\u001b[43m(\u001b[49m\u001b[38;5;124;43mr\u001b[39;49m\u001b[38;5;124;43m'\u001b[39;49m\u001b[38;5;124;43mSOUR\u001b[39;49m\u001b[38;5;132;43;01m{}\u001b[39;49;00m\u001b[38;5;124;43m:POW \u001b[39;49m\u001b[38;5;132;43;01m{}\u001b[39;49;00m\u001b[38;5;124;43m'\u001b[39;49m\u001b[38;5;241;43m.\u001b[39;49m\u001b[43mformat\u001b[49m\u001b[43m(\u001b[49m\u001b[38;5;28;43mstr\u001b[39;49m\u001b[43m(\u001b[49m\u001b[43mchannel\u001b[49m\u001b[43m)\u001b[49m\u001b[43m,\u001b[49m\u001b[43m \u001b[49m\u001b[38;5;28;43mstr\u001b[39;49m\u001b[43m(\u001b[49m\u001b[43mpower\u001b[49m\u001b[43m)\u001b[49m\u001b[43m)\u001b[49m\u001b[43m)\u001b[49m\n",
      "File \u001b[1;32m~\\anaconda3\\lib\\site-packages\\pyvisa\\resources\\messagebased.py:197\u001b[0m, in \u001b[0;36mMessageBasedResource.write\u001b[1;34m(self, message, termination, encoding)\u001b[0m\n\u001b[0;32m    191\u001b[0m         warnings\u001b[38;5;241m.\u001b[39mwarn(\n\u001b[0;32m    192\u001b[0m             \u001b[38;5;124m\"\u001b[39m\u001b[38;5;124mwrite message already ends with \u001b[39m\u001b[38;5;124m\"\u001b[39m \u001b[38;5;124m\"\u001b[39m\u001b[38;5;124mtermination characters\u001b[39m\u001b[38;5;124m\"\u001b[39m,\n\u001b[0;32m    193\u001b[0m             stacklevel\u001b[38;5;241m=\u001b[39m\u001b[38;5;241m2\u001b[39m,\n\u001b[0;32m    194\u001b[0m         )\n\u001b[0;32m    195\u001b[0m     message \u001b[38;5;241m+\u001b[39m\u001b[38;5;241m=\u001b[39m term\n\u001b[1;32m--> 197\u001b[0m count \u001b[38;5;241m=\u001b[39m \u001b[38;5;28;43mself\u001b[39;49m\u001b[38;5;241;43m.\u001b[39;49m\u001b[43mwrite_raw\u001b[49m\u001b[43m(\u001b[49m\u001b[43mmessage\u001b[49m\u001b[38;5;241;43m.\u001b[39;49m\u001b[43mencode\u001b[49m\u001b[43m(\u001b[49m\u001b[43menco\u001b[49m\u001b[43m)\u001b[49m\u001b[43m)\u001b[49m\n\u001b[0;32m    199\u001b[0m \u001b[38;5;28;01mreturn\u001b[39;00m count\n",
      "File \u001b[1;32m~\\anaconda3\\lib\\site-packages\\pyvisa\\resources\\messagebased.py:157\u001b[0m, in \u001b[0;36mMessageBasedResource.write_raw\u001b[1;34m(self, message)\u001b[0m\n\u001b[0;32m    143\u001b[0m \u001b[38;5;28;01mdef\u001b[39;00m \u001b[38;5;21mwrite_raw\u001b[39m(\u001b[38;5;28mself\u001b[39m, message: \u001b[38;5;28mbytes\u001b[39m) \u001b[38;5;241m-\u001b[39m\u001b[38;5;241m>\u001b[39m \u001b[38;5;28mint\u001b[39m:\n\u001b[0;32m    144\u001b[0m     \u001b[38;5;124;03m\"\"\"Write a byte message to the device.\u001b[39;00m\n\u001b[0;32m    145\u001b[0m \n\u001b[0;32m    146\u001b[0m \u001b[38;5;124;03m    Parameters\u001b[39;00m\n\u001b[1;32m   (...)\u001b[0m\n\u001b[0;32m    155\u001b[0m \n\u001b[0;32m    156\u001b[0m \u001b[38;5;124;03m    \"\"\"\u001b[39;00m\n\u001b[1;32m--> 157\u001b[0m     \u001b[38;5;28;01mreturn\u001b[39;00m \u001b[38;5;28mself\u001b[39m\u001b[38;5;241m.\u001b[39mvisalib\u001b[38;5;241m.\u001b[39mwrite(\u001b[38;5;28;43mself\u001b[39;49m\u001b[38;5;241;43m.\u001b[39;49m\u001b[43msession\u001b[49m, message)[\u001b[38;5;241m0\u001b[39m]\n",
      "File \u001b[1;32m~\\anaconda3\\lib\\site-packages\\pyvisa\\resources\\resource.py:171\u001b[0m, in \u001b[0;36mResource.session\u001b[1;34m(self)\u001b[0m\n\u001b[0;32m    162\u001b[0m \u001b[38;5;124;03m\"\"\"Resource session handle.\u001b[39;00m\n\u001b[0;32m    163\u001b[0m \n\u001b[0;32m    164\u001b[0m \u001b[38;5;124;03mRaises\u001b[39;00m\n\u001b[1;32m   (...)\u001b[0m\n\u001b[0;32m    168\u001b[0m \n\u001b[0;32m    169\u001b[0m \u001b[38;5;124;03m\"\"\"\u001b[39;00m\n\u001b[0;32m    170\u001b[0m \u001b[38;5;28;01mif\u001b[39;00m \u001b[38;5;28mself\u001b[39m\u001b[38;5;241m.\u001b[39m_session \u001b[38;5;129;01mis\u001b[39;00m \u001b[38;5;28;01mNone\u001b[39;00m:\n\u001b[1;32m--> 171\u001b[0m     \u001b[38;5;28;01mraise\u001b[39;00m errors\u001b[38;5;241m.\u001b[39mInvalidSession()\n\u001b[0;32m    172\u001b[0m \u001b[38;5;28;01mreturn\u001b[39;00m \u001b[38;5;28mself\u001b[39m\u001b[38;5;241m.\u001b[39m_session\n",
      "\u001b[1;31mInvalidSession\u001b[0m: Invalid session handle. The resource might be closed."
     ]
    }
   ],
   "source": [
    "anapico_power(-15)\n",
    "anapico_freq(flux_freq)\n",
    "anapico_on()\n",
    "\n",
    "vna_set_power(vna_power)\n",
    "\n",
    "\n",
    "now1 = datetime.now()\n",
    "data = dict.fromkeys(flux_powers, None)\n",
    "\n",
    "for ip, flux_power in enumerate(flux_powers):\n",
    "    print('round {}\\{}, current flux power = {}'.format(ip, len(flux_powers), flux_power))\n",
    "    \n",
    "    anapico_power(flux_power)\n",
    "    \n",
    "    fft_avg_mag = np.zeros(number_of_points)\n",
    "    fft_avg_pha = np.zeros(number_of_points)\n",
    "    for avg in range(avg_total):\n",
    "        mag, pha = vna_meas_cw()\n",
    "        fft_avg_mag+=fft_A(mag)\n",
    "        fft_avg_pha+=fft_A(pha)\n",
    "\n",
    "    data[flux_power] = np.array([[fft_avg_mag/avg_total], [fft_avg_pha/avg_total]])\n",
    "\n",
    "now2 = datetime.now()\n",
    "anapico_off()\n",
    "print('Run time:', now2-now1)\n",
    "# anapico.close()"
   ]
  },
  {
   "cell_type": "code",
   "execution_count": 105,
   "id": "3e42aa4f",
   "metadata": {},
   "outputs": [],
   "source": [
    "# %matplotlib qt\n",
    "for i in range(len(flux_powers)):\n",
    "    plt.loglog(fft_f(), data[flux_powers[i]][1][0])"
   ]
  },
  {
   "cell_type": "code",
   "execution_count": 106,
   "id": "2d83e00f",
   "metadata": {},
   "outputs": [],
   "source": [
    "data_to_save=np.empty((len(flux_powers),2,number_of_points))\n",
    "for i in range(len(flux_powers)):\n",
    "    for j in range(2):\n",
    "        for k in range(number_of_points): \n",
    "            data_to_save[i,j,k] = data[flux_powers[i]][j][0][k]"
   ]
  },
  {
   "cell_type": "code",
   "execution_count": 107,
   "id": "282546f8",
   "metadata": {},
   "outputs": [],
   "source": [
    "dict_data=dict()\n",
    "dict_data['flux_powers'] = flux_powers\n",
    "dict_data['data'] = data_to_save\n",
    "dict_data['freqs'] = fft_f()\n",
    "\n",
    "experiment_name = 'Flux_pow_sweep'\n",
    "file_name = path+'\\\\'+experiment_name+now.strftime(r'%H-%M-%S')+'.mat'\n",
    "savemat(file_name, dict_data)"
   ]
  },
  {
   "cell_type": "code",
   "execution_count": 117,
   "id": "587ebfe0",
   "metadata": {},
   "outputs": [
    {
     "ename": "KeyError",
     "evalue": "-18.0",
     "output_type": "error",
     "traceback": [
      "\u001b[1;31m---------------------------------------------------------------------------\u001b[0m",
      "\u001b[1;31mKeyError\u001b[0m                                  Traceback (most recent call last)",
      "Cell \u001b[1;32mIn[117], line 4\u001b[0m\n\u001b[0;32m      2\u001b[0m fig, ax \u001b[38;5;241m=\u001b[39m plt\u001b[38;5;241m.\u001b[39msubplots(\u001b[38;5;241m1\u001b[39m,\u001b[38;5;241m2\u001b[39m,figsize\u001b[38;5;241m=\u001b[39m(\u001b[38;5;241m15\u001b[39m,\u001b[38;5;241m7\u001b[39m), sharex\u001b[38;5;241m=\u001b[39m\u001b[38;5;28;01mTrue\u001b[39;00m, sharey\u001b[38;5;241m=\u001b[39m\u001b[38;5;28;01mTrue\u001b[39;00m)\n\u001b[0;32m      3\u001b[0m \u001b[38;5;28;01mfor\u001b[39;00m i \u001b[38;5;129;01min\u001b[39;00m \u001b[38;5;28mrange\u001b[39m(\u001b[38;5;28mlen\u001b[39m(flux_powers)):\n\u001b[1;32m----> 4\u001b[0m     ax[\u001b[38;5;241m0\u001b[39m]\u001b[38;5;241m.\u001b[39mloglog(fft_f(), fft_A(\u001b[43mdata\u001b[49m\u001b[43m[\u001b[49m\u001b[43mflux_powers\u001b[49m\u001b[43m[\u001b[49m\u001b[43mi\u001b[49m\u001b[43m]\u001b[49m\u001b[43m]\u001b[49m[\u001b[38;5;241m1\u001b[39m][\u001b[38;5;241m0\u001b[39m]), label \u001b[38;5;241m=\u001b[39m \u001b[38;5;124m'\u001b[39m\u001b[38;5;132;01m{}\u001b[39;00m\u001b[38;5;124m'\u001b[39m\u001b[38;5;241m.\u001b[39mformat(\u001b[38;5;28mround\u001b[39m(flux_powers[i],\u001b[38;5;241m2\u001b[39m)))\n\u001b[0;32m      5\u001b[0m     ax[\u001b[38;5;241m1\u001b[39m]\u001b[38;5;241m.\u001b[39mloglog(fft_f(), fft_A(data[flux_powers[i]][\u001b[38;5;241m0\u001b[39m][\u001b[38;5;241m0\u001b[39m]), label \u001b[38;5;241m=\u001b[39m \u001b[38;5;124m'\u001b[39m\u001b[38;5;132;01m{}\u001b[39;00m\u001b[38;5;124m'\u001b[39m\u001b[38;5;241m.\u001b[39mformat(\u001b[38;5;28mround\u001b[39m(flux_powers[i],\u001b[38;5;241m2\u001b[39m)))\n\u001b[0;32m      7\u001b[0m ax[\u001b[38;5;241m0\u001b[39m]\u001b[38;5;241m.\u001b[39mset_xlabel(\u001b[38;5;124m'\u001b[39m\u001b[38;5;124mFrequency, GHz\u001b[39m\u001b[38;5;124m'\u001b[39m)\n",
      "\u001b[1;31mKeyError\u001b[0m: -18.0"
     ]
    }
   ],
   "source": [
    "ind = [0, 4,  8, 9]\n",
    "fig, ax = plt.subplots(1,2,figsize=(15,7), sharex=True, sharey=True)\n",
    "for i in range(len(flux_powers)):\n",
    "    ax[0].loglog(fft_f(), fft_A(data[flux_powers[i]][1][0]), label = '{}'.format(round(flux_powers[i],2)))\n",
    "    ax[1].loglog(fft_f(), fft_A(data[flux_powers[i]][0][0]), label = '{}'.format(round(flux_powers[i],2)))\n",
    "    \n",
    "ax[0].set_xlabel('Frequency, GHz')\n",
    "ax[1].set_xlabel('Frequency, GHz')\n",
    "ax[0].set_ylabel('Magnitude')\n",
    "ax[1].set_ylabel('Phase')\n",
    "ax[0].legend()\n",
    "ax[1].legend()"
   ]
  },
  {
   "cell_type": "code",
   "execution_count": 58,
   "id": "7a50edb4",
   "metadata": {},
   "outputs": [],
   "source": [
    "anapico.close() # before restarting kernel connection to anapico should be closed. vna is fine."
   ]
  },
  {
   "cell_type": "markdown",
   "id": "df9ceccf",
   "metadata": {},
   "source": [
    "# Flux Frequency+Power sweep"
   ]
  },
  {
   "cell_type": "code",
   "execution_count": 175,
   "id": "4dd3e719",
   "metadata": {},
   "outputs": [],
   "source": [
    "#_____________ANAPICO______________\n",
    "flux_powers = np.linspace(-30, -6, 5)\n",
    "flux_freqs = np.linspace(11.252e9-2000e6, 11.252e9+2000e6, 5)  # maximum gain at 11.252e9\n",
    "\n",
    "#_____________VNA______________\n",
    "vna_freq = 5.78195e9  #resonance frequency\n",
    "vna_bandwidth = 10\n",
    "number_of_points = vna_meas_points()\n",
    "vna_power = 0\n",
    "\n",
    "avg_total = 3  #separate measurements of vna per each flux power"
   ]
  },
  {
   "cell_type": "code",
   "execution_count": 176,
   "id": "24476782",
   "metadata": {},
   "outputs": [
    {
     "name": "stdout",
     "output_type": "stream",
     "text": [
      "round 0\\5, current flux freq = 9.25\n",
      "round 0\\5, current flux power = -30.0\n",
      "round 1\\5, current flux power = -24.0\n",
      "round 2\\5, current flux power = -18.0\n",
      "round 3\\5, current flux power = -12.0\n",
      "round 4\\5, current flux power = -6.0\n",
      "round 1\\5, current flux freq = 10.25\n",
      "round 0\\5, current flux power = -30.0\n",
      "round 1\\5, current flux power = -24.0\n",
      "round 2\\5, current flux power = -18.0\n",
      "round 3\\5, current flux power = -12.0\n",
      "round 4\\5, current flux power = -6.0\n",
      "round 2\\5, current flux freq = 11.25\n",
      "round 0\\5, current flux power = -30.0\n",
      "round 1\\5, current flux power = -24.0\n",
      "round 2\\5, current flux power = -18.0\n",
      "round 3\\5, current flux power = -12.0\n",
      "round 4\\5, current flux power = -6.0\n",
      "round 3\\5, current flux freq = 12.25\n",
      "round 0\\5, current flux power = -30.0\n",
      "round 1\\5, current flux power = -24.0\n",
      "round 2\\5, current flux power = -18.0\n",
      "round 3\\5, current flux power = -12.0\n",
      "round 4\\5, current flux power = -6.0\n",
      "round 4\\5, current flux freq = 13.25\n",
      "round 0\\5, current flux power = -30.0\n",
      "round 1\\5, current flux power = -24.0\n",
      "round 2\\5, current flux power = -18.0\n",
      "round 3\\5, current flux power = -12.0\n",
      "round 4\\5, current flux power = -6.0\n",
      "Run time: 0:26:14.794747\n"
     ]
    }
   ],
   "source": [
    "vna_set_power(vna_power)\n",
    "vna_set_band(vna_bandwidth)\n",
    "vna_set_cw_freq(vna_freq)\n",
    "\n",
    "data_to_save=np.empty((len(flux_freqs), len(flux_powers), 2, number_of_points))\n",
    "data_to_save_fft=np.empty((len(flux_freqs), len(flux_powers), 2, number_of_points))\n",
    "\n",
    "now1 = datetime.now()\n",
    "print('Start: {}'.format(now.strftime(r'%H-%M-%S')))\n",
    "for i_fr, flux_freq in enumerate(flux_freqs):\n",
    "    print('round {}\\{}, current flux freq = {}'.format(i_fr, len(flux_freqs), round(flux_freq/1e9,2)))\n",
    "    anapico_freq(flux_freq)\n",
    "    anapico_on()\n",
    "\n",
    "    for j_fl, flux_power in enumerate(flux_powers):\n",
    "        print('round {}\\{}, current flux power = {}'.format(j_fl, len(flux_powers), flux_power))\n",
    "        anapico_power(flux_power)\n",
    "\n",
    "        avg_mag = np.zeros(number_of_points)\n",
    "        avg_pha = np.zeros(number_of_points)\n",
    "        avg_mag_fft = np.zeros(number_of_points)\n",
    "        avg_pha_fft = np.zeros(number_of_points)\n",
    "        for avg in range(avg_total):\n",
    "            try: mag, pha = vna_meas_cw()\n",
    "            except: \n",
    "                vna = vna_setup_CW(cw_frequency=vna_freq, vna_power=vna_power, bandwidth=vna_bandwidth)\n",
    "                mag, pha = vna_meas_cw()\n",
    "                \n",
    "            avg_mag_fft+=fft_A(mag)\n",
    "            avg_pha_fft+=fft_A(pha)\n",
    "            \n",
    "            avg_mag+=mag\n",
    "            avg_pha+=pha\n",
    "            \n",
    "        tot_mag = avg_mag/avg_total\n",
    "        tot_pha = avg_pha/avg_total\n",
    "        \n",
    "        tot_mag_fft = avg_mag_fft/avg_total\n",
    "        tot_pha_fft = avg_pha_fft/avg_total\n",
    "        \n",
    "        for i in range(len(tot_mag)): \n",
    "            data_to_save[i_fr,j_fl,0,i] = tot_mag[i] # magnitude\n",
    "            data_to_save[i_fr,j_fl,1,i] = tot_pha[i] # phase\n",
    "            \n",
    "            data_to_save_fft[i_fr,j_fl,0,i] = tot_mag_fft[i] # magnitude\n",
    "            data_to_save_fft[i_fr,j_fl,1,i] = tot_pha_fft[i] # phase\n",
    "    \n",
    "anapico_off()\n",
    "now2 = datetime.now()\n",
    "print('Run time:', now2-now1)"
   ]
  },
  {
   "cell_type": "code",
   "execution_count": 177,
   "id": "c0abc0c2",
   "metadata": {},
   "outputs": [],
   "source": [
    "for i_fr, flux_freq in enumerate(flux_freqs[:15]):\n",
    "    if i_fr%1==0:\n",
    "        fig, ax = plt.subplots(1,2,figsize=(15,7), sharex=True, sharey=True)\n",
    "        st = fig.suptitle(\"TWPA freq {}\".format(round(flux_freq/1e9,5)), fontsize=\"x-large\")\n",
    "\n",
    "        for j_fl, flux_power in enumerate(flux_powers):\n",
    "            if j_fl%1==0 and i%1==0:\n",
    "                ax[0].loglog(fft_f(), data_to_save_fft[i_fr,j_fl,0,:], label = '{}'.format(round(flux_powers[j_fl],2)))\n",
    "                ax[1].loglog(fft_f(), data_to_save_fft[i_fr,j_fl,1,:], label = '{}'.format(round(flux_powers[j_fl],2)))\n",
    "\n",
    "                ax[0].set_xlabel('Frequency, GHz')\n",
    "                ax[1].set_xlabel('Frequency, GHz')\n",
    "                ax[0].set_ylabel('Magnitude')\n",
    "                ax[1].set_ylabel('Phase')\n",
    "                ax[0].legend()\n",
    "                ax[1].legend()"
   ]
  },
  {
   "cell_type": "code",
   "execution_count": 173,
   "id": "a7a0e84b",
   "metadata": {},
   "outputs": [],
   "source": [
    "dict_data=dict()\n",
    "dict_data['flux_powers'] = flux_powers\n",
    "dict_data['flux_freqs'] = flux_freqs\n",
    "dict_data['vna_freq'] = vna_freq\n",
    "dict_data['vna_bandwidth'] = vna_bandwidth\n",
    "dict_data['number_of_points'] = number_of_points\n",
    "dict_data['vna_power'] = vna_power\n",
    "dict_data['avg_total'] = avg_total\n",
    "\n",
    "dict_data['data'] = data_to_save\n",
    "dict_data['data_fft'] = data_to_save_fft\n",
    "\n",
    "\n",
    "experiment_name = 'Freq_Flux_pow_sweep'\n",
    "file_name = path+'\\\\'+experiment_name+now.strftime(r'%H-%M-%S')+'.mat'\n",
    "savemat(file_name, dict_data)"
   ]
  },
  {
   "cell_type": "markdown",
   "id": "f8427ed3",
   "metadata": {},
   "source": [
    "Create log file"
   ]
  },
  {
   "cell_type": "code",
   "execution_count": 174,
   "id": "c4b7eb44",
   "metadata": {},
   "outputs": [],
   "source": [
    "comment = 'Freq+Power Sweep - ok. in resonance high probe'\n",
    "\n",
    "\n",
    "file_name = adress +'\\\\'+'log_'+exp_name+'.txt'\n",
    "f = open(file_name, 'a')  # append  to existing file\n",
    "f.write(str(datetime.now().strftime('%Y-%m-%d %H:%M:%S'))+':   ')\n",
    "f.write(comment+'\\n')\n",
    "f.close()"
   ]
  },
  {
   "cell_type": "code",
   "execution_count": null,
   "id": "23edfa9a",
   "metadata": {},
   "outputs": [],
   "source": []
  }
 ],
 "metadata": {
  "kernelspec": {
   "display_name": "Python 3 (ipykernel)",
   "language": "python",
   "name": "python3"
  },
  "language_info": {
   "codemirror_mode": {
    "name": "ipython",
    "version": 3
   },
   "file_extension": ".py",
   "mimetype": "text/x-python",
   "name": "python",
   "nbconvert_exporter": "python",
   "pygments_lexer": "ipython3",
   "version": "3.9.12"
  }
 },
 "nbformat": 4,
 "nbformat_minor": 5
}
