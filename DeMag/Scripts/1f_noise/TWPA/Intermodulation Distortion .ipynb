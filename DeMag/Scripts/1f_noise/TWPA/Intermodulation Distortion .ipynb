{
 "cells": [
  {
   "cell_type": "code",
   "execution_count": 18,
   "id": "51227ad9",
   "metadata": {},
   "outputs": [
    {
     "name": "stdout",
     "output_type": "stream",
     "text": [
      "Folder C:\\Users\\Demag\\PycharmProjects\\ColdMeasurements\\DeMag\\DATA\\TWPA_noise already exists\n"
     ]
    }
   ],
   "source": [
    "import pyvisa\n",
    "from qcodes.instrument_drivers.rohde_schwarz import (\n",
    "    RohdeSchwarzZNB8,\n",
    "    RohdeSchwarzZNBChannel,\n",
    ")\n",
    "import matplotlib.pyplot as plt\n",
    "import matplotlib\n",
    "%matplotlib qt\n",
    "\n",
    "import numpy as np\n",
    "from numpy import *\n",
    "from scipy.fft import fft, ifft, fftshift\n",
    "from scipy.io import savemat\n",
    "from datetime import datetime, timedelta\n",
    "import time\n",
    "\n",
    "import os\n",
    "Global_data_adress = r\"C:\\Users\\Demag\\PycharmProjects\\ColdMeasurements\\DeMag\\DATA\"\n",
    "exp_name = 'TWPA_noise'\n",
    "adress = Global_data_adress+'\\\\'+exp_name\n",
    "if not os.path.exists(adress):\n",
    "  os.mkdir(adress)\n",
    "  print(\"Folder %s created!\" % adress)\n",
    "else:\n",
    "  print(\"Folder %s already exists\" % adress)"
   ]
  },
  {
   "cell_type": "markdown",
   "id": "44745668",
   "metadata": {},
   "source": [
    "# HEWLETT-PACKARD 33120A DC source"
   ]
  },
  {
   "cell_type": "code",
   "execution_count": 7,
   "id": "0cd8da2b",
   "metadata": {},
   "outputs": [],
   "source": [
    "def dc_setup():\n",
    "    try: print(dc_source.query('*IDN?'))                 # check if connection already exist\n",
    "    except:                                        # if no connection\n",
    "        rm = pyvisa.ResourceManager()\n",
    "        dc_source = rm.open_resource('GPIB0::3::INSTR') # GPIB connection\n",
    "        print(dc_source.query('*IDN?'))\n",
    "\n",
    "    return dc_source\n",
    "\n",
    "def set_volt(volt):\n",
    "    dc_source.write('VOLT:OFFS {}'.format(str(volt))) "
   ]
  },
  {
   "cell_type": "code",
   "execution_count": 8,
   "id": "5020e9eb",
   "metadata": {
    "scrolled": false
   },
   "outputs": [
    {
     "name": "stdout",
     "output_type": "stream",
     "text": [
      "HEWLETT-PACKARD,33120A,0,8.0-5.0-1.0\n",
      "\n"
     ]
    }
   ],
   "source": [
    "dc_source = dc_setup()\n",
    "set_volt(2.47)"
   ]
  },
  {
   "cell_type": "markdown",
   "id": "a64883fb",
   "metadata": {},
   "source": [
    "# VNA init"
   ]
  },
  {
   "cell_type": "code",
   "execution_count": 3,
   "id": "f4fae8b8",
   "metadata": {},
   "outputs": [],
   "source": [
    "def magtodb(mag): return 20*np.log10(mag)\n",
    "\n",
    "def vna_setup_CW(cw_frequency=6e9, vna_power=-30, bandwidth=10):\n",
    "    try: print(vna.query('*IDN?'))                 # check if connection already exist\n",
    "    except:                                        # if no connection\n",
    "        rm = pyvisa.ResourceManager()\n",
    "        vna = rm.open_resource('GPIB0::20::INSTR') # GPIB connection\n",
    "        print(vna.query('*IDN?'))\n",
    "        \n",
    "    vna.write(':SENS1:BAND {}'.format(str(bandwidth))) # set defoult bandwidth\n",
    "    vna.write('SOUR1:POW {}'.format(str(vna_power)))   # set defoult power\n",
    "    vna.write('INIT1:CONT OFF')                        # single-sweep mode\n",
    "    vna.write('SENS1:SWE:POIN 201')                    # set maximum possible number of points for single sweep\n",
    "    vna.write(':SENS1:SWE:TYPE CW')                    # set CW mode of measurements\n",
    "    return vna\n",
    "\n",
    "def vna_set_cw(): vna.write(':SENS1:SWE:TYPE CW')    \n",
    "\n",
    "def vna_set_lin(): vna.write(':SENS1:SWE:TYPE LIN')    \n",
    "\n",
    "def vna_setup_sweep(cw_frequency=6e9, vna_power=-30, bandwidth=10):\n",
    "    try: print(vna.query('*IDN?'))                 # check if connection already exist\n",
    "    except:                                        # if no connection\n",
    "        rm = pyvisa.ResourceManager()\n",
    "        vna = rm.open_resource('GPIB0::20::INSTR') # GPIB connection\n",
    "        print(vna.query('*IDN?'))\n",
    "        \n",
    "    vna.write(':SENS1:BAND {}'.format(str(bandwidth))) # set defoult bandwidth\n",
    "    vna.write('SOUR1:POW {}'.format(str(vna_power)))   # set defoult power\n",
    "    vna.write('INIT1:CONT OFF')                        # single-sweep mode\n",
    "    vna.write('SENS1:SWE:POIN 201')                    # set maximum possible number of points for single sweep\n",
    "    vna.write(':SENS1:SWE:TYPE CW')                    # set CW mode of measurements\n",
    "    return vna\n",
    "\n",
    "def vna_on(): vna.write('OUTP ON')\n",
    "def vna_off(): vna.write('OUTP OFF')\n",
    "    \n",
    "def vna_meas_points(): \n",
    "    return int(vna.query('SENS1:SWE:POIN?'))  # should be 201\n",
    "\n",
    "def vna_sweep_time(): \n",
    "    return float(vna.query('SENS1:SWE:TIME?'))  # estimated sweep time for current settings of vna\n",
    "\n",
    "def vna_set_cw_freq(freq): \n",
    "    vna.write('SENS1:FREQ:CW {}'.format(str(freq))) # set single frequency point for CW mode in Hz\n",
    "    \n",
    "def vna_set_sweep_freq(freq): \n",
    "    vna.write('SENS1:FREQ:START {}'.format(str(freq[0]))) \n",
    "    vna.write('SENS1:FREQ:STOP {}'.format(str(freq[-1]))) \n",
    "    vna.write('SENS1:SWE:POIN {}'.format(str(len(freq)))) \n",
    "\n",
    "def vna_set_power(power): \n",
    "    vna.write('SOUR1:POW {}'.format(str(power))) # set power\n",
    "    \n",
    "def vna_set_band(bandwidth): \n",
    "    vna.write(':SENS1:BAND {}'.format(str(bandwidth))) # set power\n",
    "    \n",
    "def vna_meas_cw():\n",
    "    vna_on()\n",
    "    vna.write(\"INIT1:IMM\")                              # start measurement\n",
    "    time.sleep(0.2+float(vna.query('SENS1:SWE:TIME?'))) # this part is important becouse the measurement nedds to finnish before readout process\n",
    "    vna.write(\"CALC1:FORM MLOG\")                        # format of data\n",
    "    data_str = vna.query(\"CALC1:DATA? SDAT\")            # readout\n",
    "    \n",
    "    data = np.array(data_str.rstrip().split(\",\")).astype(\"float64\")\n",
    "    s = data[0::2] + 1j * data[1::2]\n",
    "    i = data[0::2]\n",
    "    q = data[1::2]\n",
    "    return abs(s), angle(s)"
   ]
  },
  {
   "cell_type": "code",
   "execution_count": 4,
   "id": "66fa8c7a",
   "metadata": {},
   "outputs": [
    {
     "name": "stdout",
     "output_type": "stream",
     "text": [
      "Rohde-Schwarz,ZNB20-2Port,1311601062102129,3.45\n",
      "\n"
     ]
    }
   ],
   "source": [
    "vna = vna_setup_CW() # initializing or checking for connection"
   ]
  },
  {
   "cell_type": "markdown",
   "id": "65073676",
   "metadata": {},
   "source": [
    "# ANAPICO init"
   ]
  },
  {
   "cell_type": "code",
   "execution_count": null,
   "id": "72218a8c",
   "metadata": {},
   "outputs": [],
   "source": [
    "def setup_anapico(power=-30, frequency = 6e9, channel = 1):\n",
    "    try: \n",
    "        print(anapico.query('*IDN?'))\n",
    "        print('Connection exist')\n",
    "    except: \n",
    "        rm = pyvisa.ResourceManager()\n",
    "#         anapico = rm.open_resource('USB0::0x03EB::0xAFFF::3C6-0B4F40003-0985::INSTR') # USB connection\n",
    "        anapico = rm.open_resource('TCPIP0::169.254.5.91::inst0::INSTR') # LAN connection\n",
    "        print(anapico.query('*IDN?'))\n",
    "        anapico.write(r':SYST:COMM:LAN:RTMO {}'.format(str(1)))\n",
    "    if power<=0:\n",
    "#         print('Flux power set:', power)\n",
    "        anapico.write(r'SOUR{}:POW {}'.format(str(channel), str(power)))\n",
    "        anapico.write(r'SOUR{}:FREQ {}'.format(str(channel), str(frequency)))\n",
    "    else: \n",
    "        print('Flux power is too high:', power)\n",
    "    return anapico\n",
    "\n",
    "def anapico_on(channel=1):\n",
    "    anapico.write(r'OUTP{} ON'.format(str(channel)))\n",
    "\n",
    "def anapico_off(channel=1):\n",
    "    anapico.write(r'OUTP{} OFF'.format(str(channel)))\n",
    "\n",
    "def anapico_freq(freq, channel=1): \n",
    "    anapico.write(r'SOUR{}:FREQ {}'.format(str(channel), str(freq)))\n",
    "\n",
    "def anapico_power(power, channel=1): \n",
    "    anapico.write(r'SOUR{}:POW {}'.format(str(channel), str(power)))"
   ]
  },
  {
   "cell_type": "code",
   "execution_count": 13,
   "id": "fd86695f",
   "metadata": {},
   "outputs": [
    {
     "data": {
      "text/plain": [
       "'AnaPico AG,APMS20G,3C6-0B4F40003-0985,0.4.204\\n'"
      ]
     },
     "execution_count": 13,
     "metadata": {},
     "output_type": "execute_result"
    }
   ],
   "source": [
    "anapico.query('*IDN?')"
   ]
  },
  {
   "cell_type": "code",
   "execution_count": 12,
   "id": "7e95d90f",
   "metadata": {},
   "outputs": [
    {
     "name": "stdout",
     "output_type": "stream",
     "text": [
      "AnaPico AG,APMS20G,3C6-0B4F40003-0985,0.4.204\n",
      "\n"
     ]
    }
   ],
   "source": [
    "anapico = setup_anapico()"
   ]
  },
  {
   "cell_type": "code",
   "execution_count": 20,
   "id": "6e08317f",
   "metadata": {},
   "outputs": [],
   "source": [
    "anapico.close()"
   ]
  },
  {
   "cell_type": "markdown",
   "id": "e1057471",
   "metadata": {},
   "source": [
    "# ANRITSU MS2830A signal analizer init"
   ]
  },
  {
   "cell_type": "code",
   "execution_count": 14,
   "id": "bb4af033",
   "metadata": {},
   "outputs": [],
   "source": [
    "def setup_anri():\n",
    "    try: print(anri.query('*IDN?'))\n",
    "    except: \n",
    "        rm = pyvisa.ResourceManager()\n",
    "        anri = rm.open_resource('GPIB0::7::INSTR') # GPIB connection\n",
    "        print(anri.query('*IDN?'))\n",
    "    return anri\n",
    "\n",
    "\n",
    "def anri_set_cent_freq(freq): \n",
    "    anri.write('FREQ:CENT {}'.format(str(freq)))\n",
    "    \n",
    "def anri_set_span(span): \n",
    "    anri.write('FREQ:SPAN {}'.format(str(span)))\n",
    "    \n",
    "def anri_set_band_kHz(band): \n",
    "    anri.write('BAND {}KHZ'.format(str(band)))\n",
    "\n",
    "def anri_set_band_Hz(band): \n",
    "    anri.write('BAND {}HZ'.format(str(band)))\n",
    "    \n",
    "def anri_set_nop(nop):\n",
    "    # max 10001\n",
    "    anri.write('SWEep:POINts {}'.format(str(nop)))\n",
    "    \n",
    "    \n",
    "def anri_get_nop():\n",
    "    return int(anri.query('SWEep:POINts?'))\n",
    "\n",
    "def anri_get_sweep_time():\n",
    "    return float(anri.query('SWEep:TIME?'))\n",
    "\n",
    "def sweep_mode_cont():\n",
    "    anri.write('INIT:MODE:CONT')\n",
    "\n",
    "def sweep_mode_sing():\n",
    "    anri.write('INIT:MODE:SING')\n",
    "\n",
    "def anri_get_data():\n",
    "    anri.write('INIT:IMM')\n",
    "    time.sleep(20+float(anri.query('SWEep:TIME?')))\n",
    "    raw_data = anri.query('TRAC? TRAC1')\n",
    "    data = np.array(raw_data.split(','), dtype = float)\n",
    "    return data"
   ]
  },
  {
   "cell_type": "code",
   "execution_count": 15,
   "id": "7e3b78fb",
   "metadata": {},
   "outputs": [
    {
     "name": "stdout",
     "output_type": "stream",
     "text": [
      "ANRITSU,MS2830A,6200847105,4.09.01\n",
      "\n"
     ]
    }
   ],
   "source": [
    "anri = setup_anri()"
   ]
  },
  {
   "cell_type": "markdown",
   "id": "a396b222",
   "metadata": {},
   "source": [
    "Create log"
   ]
  },
  {
   "cell_type": "code",
   "execution_count": 159,
   "id": "99d20e06",
   "metadata": {},
   "outputs": [],
   "source": [
    "comment = 'Intermodulation product with offset in flux frequency'\n",
    "\n",
    "\n",
    "file_name = adress +'\\\\'+'log_'+exp_name+'.txt'\n",
    "f = open(file_name, 'a')  # append  to existing file\n",
    "f.write(str(datetime.now().strftime('%Y-%m-%d %H:%M:%S'))+':   ')\n",
    "f.write(comment+'\\n')\n",
    "f.close()"
   ]
  },
  {
   "cell_type": "code",
   "execution_count": 6,
   "id": "852093fe",
   "metadata": {},
   "outputs": [
    {
     "name": "stdout",
     "output_type": "stream",
     "text": [
      "Folder C:\\Users\\Demag\\PycharmProjects\\ColdMeasurements\\DeMag\\DATA\\TWPA_noise\\Intermodulation products_DC_offset_sweep_fmodpow_24 already exists\n"
     ]
    }
   ],
   "source": [
    "now = datetime.now()\n",
    "path = adress +'\\\\'+ 'IntProd_DC_sweep_fp_m10_fm_m22'\n",
    "if not os.path.exists(path):\n",
    "  os.mkdir(path)\n",
    "  print(\"Folder %s created!\" % path)\n",
    "else:\n",
    "  print(\"Folder %s already exists\" % path)"
   ]
  },
  {
   "cell_type": "code",
   "execution_count": 19,
   "id": "acc580e9",
   "metadata": {},
   "outputs": [
    {
     "name": "stdout",
     "output_type": "stream",
     "text": [
      "Start: 19-37-50\n",
      "est runtime 0:12:00\n",
      "New parameters 1.5 set at 19-37-50 \n",
      "max: -27.756\n",
      "New parameters 1.5224719101123596 set at 19-46-38 \n",
      "max: -27.726\n",
      "New parameters 1.5449438202247192 set at 19-55-27 \n",
      "max: -27.714\n",
      "New parameters 1.5674157303370786 set at 20-04-15 \n",
      "max: -27.686\n",
      "New parameters 1.5898876404494382 set at 20-13-04 \n",
      "max: -27.691\n",
      "New parameters 1.6123595505617978 set at 20-21-53 \n",
      "max: -27.674\n",
      "New parameters 1.6348314606741572 set at 20-30-42 \n",
      "max: -27.625\n",
      "New parameters 1.6573033707865168 set at 20-39-30 \n",
      "max: -27.532\n",
      "New parameters 1.6797752808988764 set at 20-48-18 \n",
      "max: -27.397\n",
      "New parameters 1.702247191011236 set at 20-57-08 \n",
      "max: -27.191\n",
      "New parameters 1.7247191011235956 set at 21-05-56 \n",
      "max: -26.928\n",
      "New parameters 1.747191011235955 set at 21-14-45 \n",
      "max: -26.691\n",
      "New parameters 1.7696629213483146 set at 21-23-33 \n",
      "max: -26.544\n",
      "New parameters 1.7921348314606742 set at 21-32-23 \n",
      "max: -26.459\n",
      "New parameters 1.8146067415730336 set at 21-41-11 \n",
      "max: -26.395\n",
      "New parameters 1.8370786516853932 set at 21-50-00 \n",
      "max: -26.36\n",
      "New parameters 1.8595505617977528 set at 21-58-48 \n",
      "max: -26.348\n",
      "New parameters 1.8820224719101124 set at 22-07-38 \n",
      "max: -26.348\n",
      "New parameters 1.904494382022472 set at 22-16-26 \n",
      "max: -26.348\n",
      "New parameters 1.9269662921348314 set at 22-25-15 \n",
      "max: -26.333\n",
      "New parameters 1.949438202247191 set at 22-34-03 \n",
      "max: -26.315\n",
      "New parameters 1.9719101123595506 set at 22-42-53 \n",
      "max: -26.297\n",
      "New parameters 1.99438202247191 set at 22-51-41 \n",
      "max: -26.253\n",
      "New parameters 2.0168539325842696 set at 23-00-30 \n",
      "max: -26.153\n",
      "New parameters 2.039325842696629 set at 23-09-18 \n",
      "max: -25.932\n",
      "New parameters 2.061797752808989 set at 23-18-08 \n",
      "max: -25.447\n",
      "New parameters 2.0842696629213484 set at 23-26-56 \n",
      "max: -24.982\n",
      "New parameters 2.106741573033708 set at 23-35-45 \n",
      "max: -24.84\n",
      "New parameters 2.129213483146067 set at 23-44-33 \n",
      "max: -24.806\n",
      "New parameters 2.1516853932584272 set at 23-53-23 \n",
      "max: -24.81\n",
      "New parameters 2.1741573033707864 set at 00-02-11 \n",
      "max: -24.832\n",
      "New parameters 2.196629213483146 set at 00-11-00 \n",
      "max: -24.866\n",
      "New parameters 2.2191011235955056 set at 00-19-48 \n",
      "max: -24.902\n",
      "New parameters 2.241573033707865 set at 00-28-39 \n",
      "max: -24.922\n",
      "New parameters 2.264044943820225 set at 00-37-27 \n",
      "max: -24.903\n",
      "New parameters 2.286516853932584 set at 00-46-16 \n",
      "max: -24.791\n",
      "New parameters 2.308988764044944 set at 00-55-04 \n",
      "max: -24.576\n",
      "New parameters 2.331460674157303 set at 01-03-53 \n",
      "max: -24.139\n",
      "New parameters 2.353932584269663 set at 01-12-41 \n",
      "max: -23.637\n",
      "New parameters 2.3764044943820224 set at 01-21-30 \n",
      "max: -23.213\n",
      "New parameters 2.398876404494382 set at 01-30-18 \n",
      "max: -23.035\n",
      "New parameters 2.4213483146067416 set at 01-39-08 \n",
      "max: -22.967\n",
      "New parameters 2.443820224719101 set at 01-47-56 \n",
      "max: -23.006\n",
      "New parameters 2.466292134831461 set at 01-56-45 \n",
      "max: -23.117\n",
      "New parameters 2.48876404494382 set at 02-05-33 \n",
      "max: -23.173\n",
      "New parameters 2.51123595505618 set at 02-14-23 \n",
      "max: -23.04\n",
      "New parameters 2.533707865168539 set at 02-23-11 \n",
      "max: -22.005\n",
      "New parameters 2.556179775280899 set at 02-32-00 \n",
      "max: -18.921\n",
      "New parameters 2.5786516853932584 set at 02-40-48 \n",
      "max: -18.003\n",
      "New parameters 2.601123595505618 set at 02-49-38 \n",
      "max: -17.942\n",
      "New parameters 2.6235955056179776 set at 02-58-26 \n",
      "max: -18.057\n",
      "New parameters 2.6460674157303368 set at 03-07-14 \n",
      "max: -18.141\n",
      "New parameters 2.668539325842697 set at 03-16-03 \n",
      "max: -18.094\n",
      "New parameters 2.691011235955056 set at 03-24-54 \n",
      "max: -17.699\n",
      "New parameters 2.7134831460674156 set at 03-33-42 \n",
      "max: -16.181\n",
      "New parameters 2.735955056179775 set at 03-42-31 \n",
      "max: -37.058\n",
      "New parameters 2.758426966292135 set at 03-51-19 \n",
      "max: -27.452\n",
      "New parameters 2.7808988764044944 set at 04-00-08 \n",
      "max: -25.936\n",
      "New parameters 2.803370786516854 set at 04-08-57 \n",
      "max: -25.656\n",
      "New parameters 2.8258426966292136 set at 04-17-45 \n",
      "max: -26.21\n",
      "New parameters 2.8483146067415728 set at 04-26-33 \n",
      "max: -27.235\n",
      "New parameters 2.870786516853933 set at 04-35-23 \n",
      "max: -28.209\n",
      "New parameters 2.893258426966292 set at 04-44-11 \n",
      "max: -29.237\n",
      "New parameters 2.9157303370786516 set at 04-53-00 \n",
      "max: -29.791\n",
      "New parameters 2.938202247191011 set at 05-01-48 \n",
      "max: -30.05\n",
      "New parameters 2.960674157303371 set at 05-10-38 \n",
      "max: -30.187\n",
      "New parameters 2.9831460674157304 set at 05-19-26 \n",
      "max: -30.281\n",
      "New parameters 3.0056179775280896 set at 05-28-15 \n",
      "max: -31.078\n",
      "New parameters 3.0280898876404496 set at 05-37-03 \n",
      "max: -31.388\n",
      "New parameters 3.050561797752809 set at 05-45-54 \n",
      "max: -31.556\n",
      "New parameters 3.0730337078651684 set at 05-54-42 \n",
      "max: -31.372\n",
      "New parameters 3.095505617977528 set at 06-03-31 \n",
      "max: -31.304\n",
      "New parameters 3.1179775280898876 set at 06-12-19 \n",
      "max: -32.756\n",
      "New parameters 3.140449438202247 set at 06-21-08 \n",
      "max: -35.334\n",
      "New parameters 3.162921348314607 set at 06-29-56 \n",
      "max: -35.073\n",
      "New parameters 3.1853932584269664 set at 06-38-45 \n",
      "max: -33.139\n",
      "New parameters 3.2078651685393256 set at 06-47-33 \n",
      "max: -32.937\n",
      "New parameters 3.2303370786516856 set at 06-56-23 \n",
      "max: -32.514\n",
      "New parameters 3.252808988764045 set at 07-05-11 \n",
      "max: -32.153\n",
      "New parameters 3.2752808988764044 set at 07-14-00 \n",
      "max: -32.02\n",
      "New parameters 3.297752808988764 set at 07-22-48 \n",
      "max: -33.685\n",
      "New parameters 3.3202247191011236 set at 07-31-38 \n",
      "max: -32.186\n",
      "New parameters 3.342696629213483 set at 07-40-26 \n",
      "max: -31.058\n",
      "New parameters 3.3651685393258424 set at 07-49-15 \n",
      "max: -40.03\n",
      "New parameters 3.3876404494382024 set at 07-58-03 \n",
      "max: -40.519\n",
      "New parameters 3.4101123595505616 set at 08-06-53 \n",
      "max: -25.411\n",
      "New parameters 3.432584269662921 set at 08-15-41 \n",
      "max: -29.592\n",
      "New parameters 3.455056179775281 set at 08-24-30 \n",
      "max: -33.567\n",
      "New parameters 3.4775280898876404 set at 08-33-18 \n",
      "max: -33.908\n",
      "New parameters 3.5 set at 08-42-08 \n",
      "max: -31.595\n",
      "Stop: 08-50-56\n",
      "Run time: 13:13:06.475390\n"
     ]
    }
   ],
   "source": [
    "now1 = datetime.now()\n",
    "print('Start: {}'.format(now1.strftime(r'%H-%M-%S')))\n",
    "\n",
    "flux_freq = 11.252e9\n",
    "flux_power = -10\n",
    "anapico_power(flux_power, 1)\n",
    "anapico_freq(flux_freq, 1)\n",
    "anapico_on(1)\n",
    "\n",
    "mode1 = flux_freq/2+3e6\n",
    "anapico_freq(mode1, 2)\n",
    "\n",
    "mode2 = flux_freq/2+4e6\n",
    "anapico_freq(mode2, 3)\n",
    "\n",
    "band = 10\n",
    "cent_freq = flux_freq/2\n",
    "span = 45e6\n",
    "nop = 10001\n",
    "min_freq = cent_freq-span/2\n",
    "max_freq = cent_freq+span/2\n",
    "freq = np.linspace(min_freq, max_freq, nop)\n",
    "\n",
    "# anri_set_band_kHz(band)\n",
    "anri_set_nop(nop)\n",
    "anri_set_band_Hz(band)\n",
    "anri_set_cent_freq(cent_freq)\n",
    "anri_set_span(span)\n",
    "\n",
    "powers = np.array([-22], dtype=float)\n",
    "mode1_power = powers[0]\n",
    "anapico_power(mode1_power, 2)\n",
    "anapico_on(2)\n",
    "\n",
    "mode2_power = powers[0]\n",
    "anapico_power(mode2_power, 3)\n",
    "anapico_on(3)\n",
    "\n",
    "volts = np.linspace(1.5,3.5,90)\n",
    "print('est runtime {}'.format(str(timedelta(seconds=8*len(volts)))))\n",
    "\n",
    "for v in volts:\n",
    "    \n",
    "    set_volt(v)\n",
    "\n",
    "    now_curr = datetime.now()\n",
    "    print('New parameters {} set at {} '.format(v, now_curr.strftime(r'%H-%M-%S')))\n",
    "    data = anri_get_data()\n",
    "    print('max:', max(data))\n",
    "    \n",
    "    dict_data=dict()\n",
    "    dict_data['flux_power'] = flux_power\n",
    "    dict_data['flux_freq'] = flux_freq\n",
    "    dict_data['mode1'] = mode1\n",
    "    dict_data['mode1_power'] = mode1_power\n",
    "    dict_data['mode2'] = mode2\n",
    "    dict_data['mode2_power'] = mode2_power\n",
    "\n",
    "    dict_data['band_Hz'] = band\n",
    "    dict_data['freq_sweep'] = freq\n",
    "    dict_data['nop'] = nop \n",
    "    \n",
    "    dict_data['volt'] = v\n",
    "    dict_data['data'] = data\n",
    "\n",
    "    experiment_name = 'InterProd_powers {}-{}-{}__Dc_{}'.format(flux_power, mode1_power, mode2_power, v)\n",
    "    file_name = path+'\\\\'+experiment_name+now.strftime(r'%H-%M-%S')+'.mat'\n",
    "    savemat(file_name, dict_data)\n",
    "    \n",
    "                    \n",
    "now2 = datetime.now()\n",
    "print('Stop: {}'.format(now2.strftime(r'%H-%M-%S'))) \n",
    "print('Run time:', now2-now1)"
   ]
  },
  {
   "cell_type": "code",
   "execution_count": null,
   "id": "5ab97ca0",
   "metadata": {},
   "outputs": [],
   "source": [
    "range_i = np.array([-4, -3, -2, -1, 0, 1, 2, 3, 4])\n",
    "    mea = np.mean(data[:500])\n",
    "    std = np.std(data[:500])\n",
    "\n",
    "    cmap = plt.get_cmap('hsv')\n",
    "    x = np.linspace(0, 1, int(len(range_i)**3))\n",
    "    colors = cmap(x)\n",
    "    control_color = 0\n",
    "    \n",
    "    for i in range_i:\n",
    "        for j in range_i:\n",
    "            for k in range_i:\n",
    "                control_color+=1\n",
    "                mode = get_mode(i, j, k, mp, m1, m2)\n",
    "                if mode<max(freq/1e9) and mode>min(freq/1e9):\n",
    "                    mode_ind = np.argwhere(freq/1e9==find_nearest(freq/1e9, mode))[0,0]\n",
    "                    mode_amp = max(data[mode_ind-10:mode_ind+10])\n",
    "                    \n",
    "                    plt.plot(p, mode_amp, color = colors[control_color], label=r'${}\\cdot m_p+{}\\cdot m_1+{}\\cdot m_2$'.format(i, j, k))\n"
   ]
  },
  {
   "cell_type": "code",
   "execution_count": 8,
   "id": "63fa25a5",
   "metadata": {},
   "outputs": [
    {
     "data": {
      "text/plain": [
       "datetime.datetime(2023, 9, 27, 23, 22, 58, 803733)"
      ]
     },
     "execution_count": 8,
     "metadata": {},
     "output_type": "execute_result"
    }
   ],
   "source": [
    "datetime.now()"
   ]
  },
  {
   "cell_type": "code",
   "execution_count": null,
   "id": "1b48ecbb",
   "metadata": {},
   "outputs": [],
   "source": []
  }
 ],
 "metadata": {
  "kernelspec": {
   "display_name": "Python 3 (ipykernel)",
   "language": "python",
   "name": "python3"
  },
  "language_info": {
   "codemirror_mode": {
    "name": "ipython",
    "version": 3
   },
   "file_extension": ".py",
   "mimetype": "text/x-python",
   "name": "python",
   "nbconvert_exporter": "python",
   "pygments_lexer": "ipython3",
   "version": "3.9.12"
  }
 },
 "nbformat": 4,
 "nbformat_minor": 5
}
