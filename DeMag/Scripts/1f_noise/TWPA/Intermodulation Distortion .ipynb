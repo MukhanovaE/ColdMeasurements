{
 "cells": [
  {
   "cell_type": "code",
   "execution_count": 1,
   "id": "d7ebde9a",
   "metadata": {},
   "outputs": [
    {
     "name": "stdout",
     "output_type": "stream",
     "text": [
      "Folder C:\\Users\\Demag\\PycharmProjects\\ColdMeasurements\\DeMag\\DATA\\TWPA_noise already exists\n"
     ]
    }
   ],
   "source": [
    "import pyvisa\n",
    "from qcodes.instrument_drivers.rohde_schwarz import (\n",
    "    RohdeSchwarzZNB8,\n",
    "    RohdeSchwarzZNBChannel,\n",
    ")\n",
    "import matplotlib.pyplot as plt\n",
    "import matplotlib\n",
    "%matplotlib qt\n",
    "\n",
    "import numpy as np\n",
    "from numpy import *\n",
    "from scipy.fft import fft, ifft, fftshift\n",
    "from scipy.io import savemat\n",
    "from datetime import datetime\n",
    "import time\n",
    "\n",
    "import os\n",
    "Global_data_adress = r\"C:\\Users\\Demag\\PycharmProjects\\ColdMeasurements\\DeMag\\DATA\"\n",
    "exp_name = 'TWPA_noise'\n",
    "adress = Global_data_adress+'\\\\'+exp_name\n",
    "if not os.path.exists(adress):\n",
    "  os.mkdir(adress)\n",
    "  print(\"Folder %s created!\" % adress)\n",
    "else:\n",
    "  print(\"Folder %s already exists\" % adress)"
   ]
  },
  {
   "cell_type": "code",
   "execution_count": 2,
   "id": "aa3d1d98",
   "metadata": {},
   "outputs": [
    {
     "name": "stdout",
     "output_type": "stream",
     "text": [
      "Folder C:\\Users\\Demag\\PycharmProjects\\ColdMeasurements\\DeMag\\DATA\\TWPA_noise\\2023-09-26 already exists\n"
     ]
    }
   ],
   "source": [
    "now = datetime.now()\n",
    "path = adress +'\\\\'+ now.strftime('%Y-%m-%d')\n",
    "if not os.path.exists(path):\n",
    "  os.mkdir(path)\n",
    "  print(\"Folder %s created!\" % path)\n",
    "else:\n",
    "  print(\"Folder %s already exists\" % path)"
   ]
  },
  {
   "cell_type": "markdown",
   "id": "c1f8de0d",
   "metadata": {},
   "source": [
    "# VNA init"
   ]
  },
  {
   "cell_type": "code",
   "execution_count": 3,
   "id": "12f8de88",
   "metadata": {},
   "outputs": [],
   "source": [
    "def magtodb(mag): return 20*np.log10(mag)\n",
    "\n",
    "def vna_setup_CW(cw_frequency=6e9, vna_power=-30, bandwidth=10):\n",
    "    try: print(vna.query('*IDN?'))                 # check if connection already exist\n",
    "    except:                                        # if no connection\n",
    "        rm = pyvisa.ResourceManager()\n",
    "        vna = rm.open_resource('GPIB0::20::INSTR') # GPIB connection\n",
    "        print(vna.query('*IDN?'))\n",
    "        \n",
    "    vna.write(':SENS1:BAND {}'.format(str(bandwidth))) # set defoult bandwidth\n",
    "    vna.write('SOUR1:POW {}'.format(str(vna_power)))   # set defoult power\n",
    "    vna.write('INIT1:CONT OFF')                        # single-sweep mode\n",
    "    vna.write('SENS1:SWE:POIN 201')                    # set maximum possible number of points for single sweep\n",
    "    vna.write(':SENS1:SWE:TYPE CW')                    # set CW mode of measurements\n",
    "    return vna\n",
    "\n",
    "def vna_set_cw(): vna.write(':SENS1:SWE:TYPE CW')    \n",
    "\n",
    "def vna_set_lin(): vna.write(':SENS1:SWE:TYPE LIN')    \n",
    "\n",
    "def vna_setup_sweep(cw_frequency=6e9, vna_power=-30, bandwidth=10):\n",
    "    try: print(vna.query('*IDN?'))                 # check if connection already exist\n",
    "    except:                                        # if no connection\n",
    "        rm = pyvisa.ResourceManager()\n",
    "        vna = rm.open_resource('GPIB0::20::INSTR') # GPIB connection\n",
    "        print(vna.query('*IDN?'))\n",
    "        \n",
    "    vna.write(':SENS1:BAND {}'.format(str(bandwidth))) # set defoult bandwidth\n",
    "    vna.write('SOUR1:POW {}'.format(str(vna_power)))   # set defoult power\n",
    "    vna.write('INIT1:CONT OFF')                        # single-sweep mode\n",
    "    vna.write('SENS1:SWE:POIN 201')                    # set maximum possible number of points for single sweep\n",
    "    vna.write(':SENS1:SWE:TYPE CW')                    # set CW mode of measurements\n",
    "    return vna\n",
    "\n",
    "def vna_on(): vna.write('OUTP ON')\n",
    "def vna_off(): vna.write('OUTP OFF')\n",
    "    \n",
    "def vna_meas_points(): \n",
    "    return int(vna.query('SENS1:SWE:POIN?'))  # should be 201\n",
    "\n",
    "def vna_sweep_time(): \n",
    "    return float(vna.query('SENS1:SWE:TIME?'))  # estimated sweep time for current settings of vna\n",
    "\n",
    "def vna_set_cw_freq(freq): \n",
    "    vna.write('SENS1:FREQ:CW {}'.format(str(freq))) # set single frequency point for CW mode in Hz\n",
    "    \n",
    "def vna_set_sweep_freq(freq): \n",
    "    vna.write('SENS1:FREQ:START {}'.format(str(freq[0]))) \n",
    "    vna.write('SENS1:FREQ:STOP {}'.format(str(freq[-1]))) \n",
    "    vna.write('SENS1:SWE:POIN {}'.format(str(len(freq)))) \n",
    "\n",
    "def vna_set_power(power): \n",
    "    vna.write('SOUR1:POW {}'.format(str(power))) # set power\n",
    "    \n",
    "def vna_set_band(bandwidth): \n",
    "    vna.write(':SENS1:BAND {}'.format(str(bandwidth))) # set power\n",
    "    \n",
    "def vna_meas_cw():\n",
    "    vna_on()\n",
    "    vna.write(\"INIT1:IMM\")                              # start measurement\n",
    "    time.sleep(0.2+float(vna.query('SENS1:SWE:TIME?'))) # this part is important becouse the measurement nedds to finnish before readout process\n",
    "    vna.write(\"CALC1:FORM MLOG\")                        # format of data\n",
    "    data_str = vna.query(\"CALC1:DATA? SDAT\")            # readout\n",
    "    \n",
    "    data = np.array(data_str.rstrip().split(\",\")).astype(\"float64\")\n",
    "    s = data[0::2] + 1j * data[1::2]\n",
    "    i = data[0::2]\n",
    "    q = data[1::2]\n",
    "    return abs(s), angle(s)"
   ]
  },
  {
   "cell_type": "code",
   "execution_count": 4,
   "id": "f13efc5c",
   "metadata": {},
   "outputs": [
    {
     "name": "stdout",
     "output_type": "stream",
     "text": [
      "Rohde-Schwarz,ZNB20-2Port,1311601062102129,3.45\n",
      "\n"
     ]
    }
   ],
   "source": [
    "vna = vna_setup_CW() # initializing or checking for connection"
   ]
  },
  {
   "cell_type": "markdown",
   "id": "7cc991cb",
   "metadata": {},
   "source": [
    "# ANAPICO init"
   ]
  },
  {
   "cell_type": "code",
   "execution_count": 62,
   "id": "325d3d89",
   "metadata": {},
   "outputs": [],
   "source": [
    "def setup_anapico(power=-30, frequency = 6e9, channel = 1):\n",
    "    try: print(anapico.query('*IDN?'))\n",
    "    except: \n",
    "        rm = pyvisa.ResourceManager()\n",
    "#         anapico = rm.open_resource('USB0::0x03EB::0xAFFF::3C6-0B4F40003-0985::INSTR') # USB connection\n",
    "        anapico = rm.open_resource('TCPIP0::169.254.5.91::inst0::INSTR') # LAN connection\n",
    "        print(anapico.query('*IDN?'))\n",
    "    if power<=-6:\n",
    "#         print('Flux power set:', power)\n",
    "        anapico.write(r'SOUR{}:POW {}'.format(str(channel), str(power)))\n",
    "        anapico.write(r'SOUR{}:FREQ {}'.format(str(channel), str(frequency)))\n",
    "    else: \n",
    "        print('Flux power is too high:', power)\n",
    "    return anapico\n",
    "\n",
    "def anapico_on(channel=1):\n",
    "    anapico.write(r'OUTP{} ON'.format(str(channel)))\n",
    "\n",
    "def anapico_off(channel=1):\n",
    "    anapico.write(r'OUTP{} OFF'.format(str(channel)))\n",
    "\n",
    "def anapico_freq(freq, channel=1): \n",
    "    anapico.write(r'SOUR{}:FREQ {}'.format(str(channel), str(freq)))\n",
    "\n",
    "def anapico_power(power, channel=1): \n",
    "    anapico.write(r'SOUR{}:POW {}'.format(str(channel), str(power)))"
   ]
  },
  {
   "cell_type": "code",
   "execution_count": 107,
   "id": "fe8844c6",
   "metadata": {},
   "outputs": [
    {
     "name": "stdout",
     "output_type": "stream",
     "text": [
      "AnaPico AG,APMS20G,3C6-0B4F40003-0985,0.4.204\n",
      "\n"
     ]
    }
   ],
   "source": [
    "anapico = setup_anapico()"
   ]
  },
  {
   "cell_type": "code",
   "execution_count": 105,
   "id": "b00cc55e",
   "metadata": {},
   "outputs": [],
   "source": [
    "anapico.close()"
   ]
  },
  {
   "cell_type": "markdown",
   "id": "e85f17f6",
   "metadata": {},
   "source": [
    "# ANRITSU MS2830A signal analizer init"
   ]
  },
  {
   "cell_type": "code",
   "execution_count": 55,
   "id": "c23890af",
   "metadata": {},
   "outputs": [],
   "source": [
    "def setup_anri():\n",
    "    try: print(anri.query('*IDN?'))\n",
    "    except: \n",
    "        rm = pyvisa.ResourceManager()\n",
    "        anri = rm.open_resource('GPIB0::7::INSTR') # GPIB connection\n",
    "        print(anri.query('*IDN?'))\n",
    "    return anri\n",
    "\n",
    "\n",
    "def anri_set_cent_freq(freq): \n",
    "    anri.write('FREQ:CENT {}'.format(str(freq)))\n",
    "    \n",
    "def anri_set_span(span): \n",
    "    anri.write('FREQ:SPAN {}'.format(str(span)))\n",
    "    \n",
    "def anri_set_band_kHz(band): \n",
    "    anri.write('BAND {}KHZ'.format(str(band)))\n",
    "\n",
    "def anri_set_band_Hz(band): \n",
    "    anri.write('BAND {}HZ'.format(str(band)))\n",
    "    \n",
    "def anri_set_nop(nop):\n",
    "    # max 10001\n",
    "    anri.write('SWEep:POINts {}'.format(str(nop)))\n",
    "    \n",
    "    \n",
    "def anri_get_nop():\n",
    "    return int(anri.query('SWEep:POINts?'))\n",
    "\n",
    "def anri_get_sweep_time():\n",
    "    return float(anri.query('SWEep:TIME?'))\n",
    "\n",
    "def sweep_mode_cont():\n",
    "    anri.write('INIT:MODE:CONT')\n",
    "\n",
    "def sweep_mode_sing():\n",
    "    anri.write('INIT:MODE:SING')\n",
    "\n",
    "def anri_get_data():\n",
    "    anri.write('INIT:IMM')\n",
    "    time.sleep(20+float(anri.query('SWEep:TIME?')))\n",
    "    raw_data = anri.query('TRAC? TRAC1')\n",
    "    data = np.array(raw_data.split(','), dtype = float)\n",
    "    return data"
   ]
  },
  {
   "cell_type": "code",
   "execution_count": 8,
   "id": "674496e7",
   "metadata": {},
   "outputs": [
    {
     "name": "stdout",
     "output_type": "stream",
     "text": [
      "ANRITSU,MS2830A,6200847105,4.09.01\n",
      "\n"
     ]
    }
   ],
   "source": [
    "anri = setup_anri()"
   ]
  },
  {
   "cell_type": "code",
   "execution_count": 9,
   "id": "a2b01832",
   "metadata": {},
   "outputs": [
    {
     "data": {
      "text/plain": [
       "5001"
      ]
     },
     "execution_count": 9,
     "metadata": {},
     "output_type": "execute_result"
    }
   ],
   "source": [
    "anri_get_nop()"
   ]
  },
  {
   "cell_type": "code",
   "execution_count": 108,
   "id": "db2d22e2",
   "metadata": {},
   "outputs": [
    {
     "name": "stdout",
     "output_type": "stream",
     "text": [
      "AnaPico AG,APMS20G,3C6-0B4F40003-0985,0.4.204\n",
      "\n"
     ]
    }
   ],
   "source": [
    "anapico = setup_anapico()\n",
    "\n",
    "flux_freq = 11.252e9\n",
    "anapico_power(-6, 1)\n",
    "anapico_freq(flux_freq, 1)\n",
    "anapico_on(1)\n",
    "\n",
    "mode1 = flux_freq/2+3e6\n",
    "anapico_power(-6, 2)\n",
    "anapico_freq(mode1, 2)\n",
    "anapico_on(2)\n",
    "\n",
    "mode2 = flux_freq/2+4e6\n",
    "anapico_power(-6, 3)\n",
    "anapico_freq(mode2, 3)\n",
    "anapico_on(3)\n",
    "\n",
    "time.sleep(5)\n",
    "anapico.close()\n",
    "\n",
    "band = 1\n",
    "cent_freq = flux_freq/2\n",
    "span = 45e6\n",
    "nop = 10001\n",
    "min_freq = cent_freq-span/2\n",
    "max_freq = cent_freq+span/2\n",
    "freq = np.linspace(min_freq, max_freq, nop)\n",
    "\n",
    "# anri_set_band_kHz(band)\n",
    "anri_set_nop(nop)\n",
    "anri_set_band_Hz(band)\n",
    "anri_set_cent_freq(cent_freq)\n",
    "anri_set_span(span)"
   ]
  },
  {
   "cell_type": "code",
   "execution_count": null,
   "id": "e3ff6b11",
   "metadata": {},
   "outputs": [],
   "source": [
    "data = anri_get_data()\n",
    "\n",
    "fig, ax = plt.subplots(figsize=(15,7))\n",
    "ax.set_ylim(-100, 0)\n",
    "mp = cent_freq/1e9\n",
    "m1 = mode1/1e9\n",
    "m2 = mode2/1e9\n",
    "\n",
    "ax.axvline(x=mp,  color = 'r', alpha = 0.7,label='$\\omega_p/2$')\n",
    "ax.axvline(x=m1, linestyle='--', alpha = 0.7, color = 'g', label='$\\omega_1/2$')\n",
    "ax.axvline(x=m2, linestyle='--', alpha = 0.7, color = 'b', label='$\\omega_2/2$')\n",
    "\n",
    "ax.axvline(x=2*mp-m1, linestyle='--', alpha = 0.7, color = 'g', label='2*mp-m1')\n",
    "ax.axvline(x=2*mp-m2, linestyle='--', alpha = 0.7, color = 'b', label='2*mp-m2')\n",
    "\n",
    "\n",
    "ax.axvline(x=m2+mp-m1, linestyle=':',  alpha = 0.7, color = 'orange',label='m2+mp-m1')\n",
    "ax.axvline(x=-m2+mp+m1, linestyle=':',  alpha = 0.7, color = 'orange',label='-m2+mp+m1')\n",
    "ax.axvline(x=m2-mp+m1, linestyle=':',  alpha = 1, color = 'yellow',label='m2-mp+m1')\n",
    "\n",
    "ax.axvline(x=2*m1-mp, linestyle=':', alpha = 0.7, color = 'black', label='2*m1-mp')\n",
    "ax.axvline(x=2*m2-mp, linestyle=':', alpha = 0.7,  color = 'aqua',label='2*m2-mp')\n",
    "ax.axvline(x=2*m2-m1, linestyle=':', alpha = 0.7, color = 'greenyellow', label='2*m2-m1')\n",
    "ax.axvline(x=2*m1-m2, linestyle=':', alpha = 0.7, color = 'deepskyblue', label='2*m1-m2')\n",
    "\n",
    "\n",
    "ax.axvline(x=2*m1+m2-2*mp, linestyle=':', alpha = 0.7, color = 'violet', label='2*m1+m2-2*mp')\n",
    "ax.axvline(x=2*m2+m1-2*mp, linestyle=':', alpha = 0.7, color = 'springgreen', label='2*m2+m1-2*mp')\n",
    "ax.axvline(x=2*mp+m1-2*m2, linestyle=':', alpha = 0.7, color = 'violet', label='2*mp+m1-2*m2')\n",
    "ax.axvline(x=2*mp+m2-2*m1, linestyle=':', alpha = 0.7, color = 'violet', label='2*mp+m2-2*m1')\n",
    "\n",
    "\n",
    "ax.axvline(x=3*m1-2*mp, linestyle=':', alpha = 0.7, color = 'greenyellow', label='3*m1-2*mp')\n",
    "ax.axvline(x=3*m2-2*mp, linestyle=':', alpha = 0.7, color = 'olivedrab', label='3*m2-2*mp')\n",
    "ax.axvline(x=3*mp-2*m1, linestyle=':', alpha = 0.7, color = 'greenyellow', label='3*mp-2*m1')\n",
    "ax.axvline(x=3*mp-2*m2, linestyle=':', alpha = 0.7, color = 'greenyellow', label='3*mp-2*m2')\n",
    "\n",
    "ax.axvline(x=m1+2*m2-2*mp, linestyle=':', alpha = 0.7, color = 'springgreen', label='m1+2*m2-2*mp')\n",
    "ax.axvline(x=m1+2*mp-2*m2, linestyle=':', alpha = 0.7, color = 'springgreen', label='m1+2*mp-2*m2')\n",
    "ax.axvline(x=m2+2*m1-2*mp, linestyle=':', alpha = 0.7, color = 'springgreen', label='m2+2*m1-2*mp')\n",
    "ax.axvline(x=m2+2*mp-2*m1, linestyle=':', alpha = 0.7, color = 'springgreen', label='m2+2*mp-2*m1')\n",
    "\n",
    "ax.plot(freq[:-1]/1e9, data[:-1])\n",
    "\n",
    "ax.legend()"
   ]
  },
  {
   "cell_type": "code",
   "execution_count": 103,
   "id": "5a47a759",
   "metadata": {},
   "outputs": [
    {
     "data": {
      "text/plain": [
       "<matplotlib.legend.Legend at 0x1d30eeb3fa0>"
      ]
     },
     "execution_count": 103,
     "metadata": {},
     "output_type": "execute_result"
    }
   ],
   "source": [
    "def get_mode(i, j, k, mp, m1, m2):\n",
    "    return i*mp+j*m1+k*m2\n",
    "\n",
    "def find_nearest(array, value):\n",
    "    array = np.asarray(array)\n",
    "    idx = (np.abs(array - value)).argmin()\n",
    "    return array[idx]\n",
    "\n",
    "fig, ax = plt.subplots(figsize=(15,7))\n",
    "ax.set_ylim(-100, 0)\n",
    "\n",
    "mea = np.mean(data[:500])\n",
    "std = np.std(data[:500])\n",
    "ax.set_title('mean = {}, std = {}'.format(round(mea,2), round(std, 2)))\n",
    "for i in np.array([-3, -2, -1, 0, 1, 2, 3]):\n",
    "    for j in np.array([-3, -2, -1, 0, 1, 2, 3]):\n",
    "        for k in np.array([-3, -2, -1, 0, 1, 2, 3]):\n",
    "            mode = get_mode(i, j, k, mp, m1, m2)\n",
    "            if mode<max(freq/1e9) and mode>min(freq/1e9):\n",
    "                mode_ind = np.argwhere(freq/1e9==find_nearest(freq/1e9, mode))[0,0]\n",
    "                mode_amp = max(data[mode_ind-10:mode_ind+10])\n",
    "                \n",
    "                if mode_amp>mea+std*3:\n",
    "                    ax.axvline(mode, ymin=-100, ymax=1, linewidth=2, color = 'springgreen',\n",
    "                               alpha = 1, label=r'${}\\cdot m_p+{}\\cdot m_1+{}\\cdot m_2$'.format(i, j, k))\n",
    "\n",
    "ax.plot(freq/1e9, data)\n",
    "ax.legend()            "
   ]
  },
  {
   "cell_type": "code",
   "execution_count": null,
   "id": "d8dbcf51",
   "metadata": {},
   "outputs": [],
   "source": []
  }
 ],
 "metadata": {
  "kernelspec": {
   "display_name": "Python 3 (ipykernel)",
   "language": "python",
   "name": "python3"
  },
  "language_info": {
   "codemirror_mode": {
    "name": "ipython",
    "version": 3
   },
   "file_extension": ".py",
   "mimetype": "text/x-python",
   "name": "python",
   "nbconvert_exporter": "python",
   "pygments_lexer": "ipython3",
   "version": "3.9.12"
  }
 },
 "nbformat": 4,
 "nbformat_minor": 5
}
