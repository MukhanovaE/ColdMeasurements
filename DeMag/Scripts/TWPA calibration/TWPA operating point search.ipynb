{
 "cells": [
  {
   "cell_type": "code",
   "execution_count": 1,
   "id": "2a27930d",
   "metadata": {},
   "outputs": [
    {
     "name": "stderr",
     "output_type": "stream",
     "text": [
      "C:\\Users\\Demag\\anaconda3\\lib\\site-packages\\scipy\\__init__.py:146: UserWarning: A NumPy version >=1.16.5 and <1.23.0 is required for this version of SciPy (detected version 1.26.1\n",
      "  warnings.warn(f\"A NumPy version >={np_minversion} and <{np_maxversion}\"\n"
     ]
    }
   ],
   "source": [
    "from nanodrivers.visa_drivers.anapico import ANAPICO\n",
    "from nanodrivers.visa_drivers.dc import DC\n",
    "from nanodrivers.visa_drivers.vna import VNA\n",
    "\n",
    "#math\n",
    "import numpy as np\n",
    "from numpy import *\n",
    "from scipy.optimize import curve_fit\n",
    "\n",
    "#plotting\n",
    "import matplotlib.pyplot as plt\n",
    "import matplotlib\n",
    "\n",
    "#matlab import\n",
    "import scipy.io\n",
    "from scipy.io import savemat\n",
    "from scipy.optimize import minimize\n",
    "\n",
    "#file_store\n",
    "import os\n",
    "\n",
    "#time\n",
    "from datetime import datetime, timedelta\n",
    "\n",
    "\n",
    "from ctypes import *\n",
    "%matplotlib inline"
   ]
  },
  {
   "cell_type": "code",
   "execution_count": 2,
   "id": "de3ea7e6",
   "metadata": {},
   "outputs": [
    {
     "name": "stdout",
     "output_type": "stream",
     "text": [
      "Connection exist: AnaPico AG,APMS20G,3C6-0B4F40003-0985,0.4.204\n",
      "\n"
     ]
    }
   ],
   "source": [
    "anapico = ANAPICO()\n",
    "anapico.idn()"
   ]
  },
  {
   "cell_type": "code",
   "execution_count": 8,
   "id": "2f2e22a9",
   "metadata": {},
   "outputs": [
    {
     "name": "stdout",
     "output_type": "stream",
     "text": [
      "Connection exist: HEWLETT-PACKARD,33120A,0,7.0-5.0-1.0\n",
      "\n"
     ]
    }
   ],
   "source": [
    "dc = DC()\n",
    "dc.idn()"
   ]
  },
  {
   "cell_type": "code",
   "execution_count": 3,
   "id": "8139af0b",
   "metadata": {},
   "outputs": [
    {
     "name": "stdout",
     "output_type": "stream",
     "text": [
      "Connection exist: Rohde-Schwarz,ZNB20-2Port,1311601062102129,3.45\n",
      "\n"
     ]
    }
   ],
   "source": [
    "vna = VNA()\n",
    "vna.idn()"
   ]
  },
  {
   "cell_type": "markdown",
   "id": "17f65fec",
   "metadata": {},
   "source": [
    "# Set all devises to defoult values"
   ]
  },
  {
   "cell_type": "code",
   "execution_count": 9,
   "id": "b88c1c9a",
   "metadata": {},
   "outputs": [],
   "source": [
    "# Anapico \n",
    "anapico.off(1)\n",
    "\n",
    "#dc \n",
    "dc.set_volt(0)"
   ]
  },
  {
   "cell_type": "code",
   "execution_count": 10,
   "id": "722b3a50",
   "metadata": {},
   "outputs": [],
   "source": [
    "anapico.on(1)"
   ]
  },
  {
   "cell_type": "code",
   "execution_count": 11,
   "id": "1312d475",
   "metadata": {},
   "outputs": [],
   "source": [
    "# boundaries\n",
    "\n",
    "freq_pump_max = 12 #GHz\n",
    "freq_pump_min = 10 #GHz\n",
    "\n",
    "power_pump_max = -6 #dBm\n",
    "power_pump_min = -26 #dBm\n",
    "\n",
    "dc_max = 3 # V\n",
    "dc_min = 1 # V"
   ]
  },
  {
   "cell_type": "markdown",
   "id": "11100591",
   "metadata": {},
   "source": [
    "# Just scan over all range"
   ]
  },
  {
   "cell_type": "code",
   "execution_count": 12,
   "id": "eacba2c4",
   "metadata": {},
   "outputs": [],
   "source": [
    "number_of_freq_steps = 5\n",
    "number_of_power_steps = 5\n",
    "number_of_dc_steps = 5 \n",
    "\n",
    "freq = np.linspace(freq_pump_min, freq_pump_max, number_of_freq_steps)\n",
    "powers = np.linspace(power_pump_min, power_pump_max, number_of_power_steps)\n",
    "dcs = np.linspace(dc_min, dc_max, number_of_dc_steps)\n",
    "\n",
    "reference_freq = 5.8"
   ]
  },
  {
   "cell_type": "code",
   "execution_count": 19,
   "id": "d87e186d",
   "metadata": {},
   "outputs": [
    {
     "name": "stdout",
     "output_type": "stream",
     "text": [
      "Warning: probably frequency range is GHz, but Hz needed. Frequency will be converted to Hz\n",
      "Sweep time: 1.7957113281666668 m\n",
      "WARNING: CHECK ANGLE (rad or deg)!\n"
     ]
    },
    {
     "data": {
      "text/plain": [
       "[<matplotlib.lines.Line2D at 0x1f7142e5d60>]"
      ]
     },
     "execution_count": 19,
     "metadata": {},
     "output_type": "execute_result"
    },
    {
     "data": {
      "image/png": "[encoded data removed]",
      "text/plain": [
       "<Figure size 432x288 with 1 Axes>"
      ]
     },
     "metadata": {
      "needs_background": "light"
     },
     "output_type": "display_data"
    }
   ],
   "source": [
    "vna.set_cw_freq(reference_freq)\n",
    "vna.set_power(-10)\n",
    "vna.set_nop(5)\n",
    "vna.set_band(1000)\n",
    "one_round_time = vna.ask_sweep_time()/60\n",
    "\n",
    "print('Sweep time: {} m'.format(one_round_time))\n",
    "\n",
    "mag, pha = vna.get_data()\n",
    "reference_mag_level = np.mean(mag)\n",
    "plt.plot(mag)\n",
    "plt.plot(np.ones(len(mag))*reference_mag_level)"
   ]
  },
  {
   "cell_type": "markdown",
   "id": "01a840ba",
   "metadata": {},
   "source": [
    "# Gradient Descent"
   ]
  },
  {
   "cell_type": "code",
   "execution_count": 14,
   "id": "1d867adb",
   "metadata": {},
   "outputs": [],
   "source": [
    "def get_gain(freq_curr, powers_curr, dc_curr):\n",
    "    anapico.set_freq(1, freq_curr)\n",
    "    anapico.set_power(1, powers_curr)\n",
    "    dc.set_volt(dc_curr)\n",
    "    mag, pha = vna.get_data()\n",
    "    gain = np.mean(mag) - reference_mag_level\n",
    "    return gain\n",
    "\n",
    "def wrapped_gain(g): \n",
    "    freq_curr = g[0]\n",
    "    powers_curr = g[1]\n",
    "    dc_curr = g[2]\n",
    "    print(g)\n",
    "    if freq_curr<=freq_pump_max and freq_curr>=freq_pump_min:\n",
    "        if powers_curr>=power_pump_min and powers_curr<=power_pump_max: \n",
    "            if dc_curr<=dc_max and dc_curr>=dc_min:\n",
    "                gain = get_gain(freq_curr, powers_curr, dc_curr)\n",
    "                print(gain)\n",
    "                return -gain\n",
    "    \n",
    "    return 100"
   ]
  },
  {
   "cell_type": "code",
   "execution_count": null,
   "id": "1f637a6b",
   "metadata": {
    "scrolled": true
   },
   "outputs": [
    {
     "name": "stdout",
     "output_type": "stream",
     "text": [
      "Start time 2023-11-30 19:02:18.661798\n",
      "[11.252 -7.     2.4  ]\n",
      "WARNING: CHECK ANGLE (rad or deg)!\n",
      "-0.9241298662226072\n",
      "[11.8146 -7.      2.4   ]\n",
      "WARNING: CHECK ANGLE (rad or deg)!\n",
      "-0.8932685889527647\n",
      "[11.252 -7.35   2.4  ]\n",
      "WARNING: CHECK ANGLE (rad or deg)!\n",
      "-0.6887538047348656\n",
      "[11.252 -7.     2.52 ]\n"
     ]
    }
   ],
   "source": [
    "x0 = np.array([11.252, -7, 2.4])\n",
    "anapico.on(1)\n",
    "\n",
    "start_time = datetime.now()\n",
    "print('Start time', start_time)\n",
    "res = minimize(wrapped_gain, x0, method='nelder-mead',\n",
    "               options={'xatol': 1e-6,})\n",
    "print(res.x)\n",
    "\n",
    "\n",
    "end_time = datetime.now()\n",
    "print('Duration: {}'.format(end_time - start_time))"
   ]
  },
  {
   "cell_type": "code",
   "execution_count": null,
   "id": "44daff3a",
   "metadata": {},
   "outputs": [],
   "source": []
  }
 ],
 "metadata": {
  "kernelspec": {
   "display_name": "Python 3 (ipykernel)",
   "language": "python",
   "name": "python3"
  },
  "language_info": {
   "codemirror_mode": {
    "name": "ipython",
    "version": 3
   },
   "file_extension": ".py",
   "mimetype": "text/x-python",
   "name": "python",
   "nbconvert_exporter": "python",
   "pygments_lexer": "ipython3",
   "version": "3.9.12"
  }
 },
 "nbformat": 4,
 "nbformat_minor": 5
}
